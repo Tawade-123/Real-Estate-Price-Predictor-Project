{
 "cells": [
  {
   "cell_type": "code",
   "execution_count": 1,
   "id": "b7e6dde6",
   "metadata": {
    "id": "b7e6dde6"
   },
   "outputs": [],
   "source": [
    "import warnings\n",
    "# Suppress the FutureWarning\n",
    "warnings.filterwarnings(\"ignore\", category=FutureWarning)"
   ]
  },
  {
   "cell_type": "markdown",
   "id": "454ab4e5",
   "metadata": {
    "id": "454ab4e5"
   },
   "source": [
    "# Lab 10 : Model Selection"
   ]
  },
  {
   "cell_type": "markdown",
   "id": "cc5685fe",
   "metadata": {
    "id": "cc5685fe"
   },
   "source": [
    "## Import Libraries"
   ]
  },
  {
   "cell_type": "code",
   "execution_count": 2,
   "id": "f0ebdd72",
   "metadata": {
    "id": "f0ebdd72"
   },
   "outputs": [],
   "source": [
    "import numpy as np\n",
    "import pandas as pd\n",
    "import matplotlib.pyplot as plt\n",
    "import seaborn as sns"
   ]
  },
  {
   "cell_type": "code",
   "execution_count": 3,
   "id": "6e7828ca",
   "metadata": {
    "id": "6e7828ca"
   },
   "outputs": [],
   "source": [
    "data = pd.read_csv('bodyPerformance.csv')"
   ]
  },
  {
   "cell_type": "code",
   "execution_count": 4,
   "id": "b461acd4",
   "metadata": {
    "colab": {
     "base_uri": "https://localhost:8080/",
     "height": 206
    },
    "id": "b461acd4",
    "outputId": "1e87bde1-7cfe-450b-eee5-a34a6b6dc521"
   },
   "outputs": [
    {
     "data": {
      "text/html": [
       "<div>\n",
       "<style scoped>\n",
       "    .dataframe tbody tr th:only-of-type {\n",
       "        vertical-align: middle;\n",
       "    }\n",
       "\n",
       "    .dataframe tbody tr th {\n",
       "        vertical-align: top;\n",
       "    }\n",
       "\n",
       "    .dataframe thead th {\n",
       "        text-align: right;\n",
       "    }\n",
       "</style>\n",
       "<table border=\"1\" class=\"dataframe\">\n",
       "  <thead>\n",
       "    <tr style=\"text-align: right;\">\n",
       "      <th></th>\n",
       "      <th>age</th>\n",
       "      <th>gender</th>\n",
       "      <th>height_cm</th>\n",
       "      <th>weight_kg</th>\n",
       "      <th>body fat_%</th>\n",
       "      <th>diastolic</th>\n",
       "      <th>systolic</th>\n",
       "      <th>gripForce</th>\n",
       "      <th>sit and bend forward_cm</th>\n",
       "      <th>sit-ups counts</th>\n",
       "      <th>broad jump_cm</th>\n",
       "      <th>class</th>\n",
       "    </tr>\n",
       "  </thead>\n",
       "  <tbody>\n",
       "    <tr>\n",
       "      <th>0</th>\n",
       "      <td>27</td>\n",
       "      <td>M</td>\n",
       "      <td>172.3</td>\n",
       "      <td>75.24</td>\n",
       "      <td>21.3</td>\n",
       "      <td>80.0</td>\n",
       "      <td>130.0</td>\n",
       "      <td>54.9</td>\n",
       "      <td>18.4</td>\n",
       "      <td>60.0</td>\n",
       "      <td>217.0</td>\n",
       "      <td>C</td>\n",
       "    </tr>\n",
       "    <tr>\n",
       "      <th>1</th>\n",
       "      <td>25</td>\n",
       "      <td>M</td>\n",
       "      <td>165.0</td>\n",
       "      <td>55.80</td>\n",
       "      <td>15.7</td>\n",
       "      <td>77.0</td>\n",
       "      <td>126.0</td>\n",
       "      <td>36.4</td>\n",
       "      <td>16.3</td>\n",
       "      <td>53.0</td>\n",
       "      <td>229.0</td>\n",
       "      <td>A</td>\n",
       "    </tr>\n",
       "    <tr>\n",
       "      <th>2</th>\n",
       "      <td>31</td>\n",
       "      <td>M</td>\n",
       "      <td>179.6</td>\n",
       "      <td>78.00</td>\n",
       "      <td>20.1</td>\n",
       "      <td>92.0</td>\n",
       "      <td>152.0</td>\n",
       "      <td>44.8</td>\n",
       "      <td>12.0</td>\n",
       "      <td>49.0</td>\n",
       "      <td>181.0</td>\n",
       "      <td>C</td>\n",
       "    </tr>\n",
       "    <tr>\n",
       "      <th>3</th>\n",
       "      <td>32</td>\n",
       "      <td>M</td>\n",
       "      <td>174.5</td>\n",
       "      <td>71.10</td>\n",
       "      <td>18.4</td>\n",
       "      <td>76.0</td>\n",
       "      <td>147.0</td>\n",
       "      <td>41.4</td>\n",
       "      <td>15.2</td>\n",
       "      <td>53.0</td>\n",
       "      <td>219.0</td>\n",
       "      <td>B</td>\n",
       "    </tr>\n",
       "    <tr>\n",
       "      <th>4</th>\n",
       "      <td>28</td>\n",
       "      <td>M</td>\n",
       "      <td>173.8</td>\n",
       "      <td>67.70</td>\n",
       "      <td>17.1</td>\n",
       "      <td>70.0</td>\n",
       "      <td>127.0</td>\n",
       "      <td>43.5</td>\n",
       "      <td>27.1</td>\n",
       "      <td>45.0</td>\n",
       "      <td>217.0</td>\n",
       "      <td>B</td>\n",
       "    </tr>\n",
       "  </tbody>\n",
       "</table>\n",
       "</div>"
      ],
      "text/plain": [
       "   age gender  height_cm  weight_kg  body fat_%  diastolic  systolic  \\\n",
       "0   27      M      172.3      75.24        21.3       80.0     130.0   \n",
       "1   25      M      165.0      55.80        15.7       77.0     126.0   \n",
       "2   31      M      179.6      78.00        20.1       92.0     152.0   \n",
       "3   32      M      174.5      71.10        18.4       76.0     147.0   \n",
       "4   28      M      173.8      67.70        17.1       70.0     127.0   \n",
       "\n",
       "   gripForce  sit and bend forward_cm  sit-ups counts  broad jump_cm class  \n",
       "0       54.9                     18.4            60.0          217.0     C  \n",
       "1       36.4                     16.3            53.0          229.0     A  \n",
       "2       44.8                     12.0            49.0          181.0     C  \n",
       "3       41.4                     15.2            53.0          219.0     B  \n",
       "4       43.5                     27.1            45.0          217.0     B  "
      ]
     },
     "execution_count": 4,
     "metadata": {},
     "output_type": "execute_result"
    }
   ],
   "source": [
    "data.head()"
   ]
  },
  {
   "cell_type": "markdown",
   "id": "8b01b183",
   "metadata": {
    "id": "8b01b183"
   },
   "source": [
    "## EDA Steps"
   ]
  },
  {
   "cell_type": "code",
   "execution_count": 5,
   "id": "cf685b0a",
   "metadata": {
    "colab": {
     "base_uri": "https://localhost:8080/"
    },
    "id": "cf685b0a",
    "outputId": "58fd2b94-c0e2-4e0a-ffd5-2b1b9e2f7e80"
   },
   "outputs": [
    {
     "data": {
      "text/plain": [
       "(13393, 12)"
      ]
     },
     "execution_count": 5,
     "metadata": {},
     "output_type": "execute_result"
    }
   ],
   "source": [
    "data.shape"
   ]
  },
  {
   "cell_type": "code",
   "execution_count": 6,
   "id": "4fbee121",
   "metadata": {
    "colab": {
     "base_uri": "https://localhost:8080/"
    },
    "id": "4fbee121",
    "outputId": "014a8a37-76bd-4cfc-e21c-25eb1e8fb326"
   },
   "outputs": [
    {
     "data": {
      "text/plain": [
       "Index(['age', 'gender', 'height_cm', 'weight_kg', 'body fat_%', 'diastolic',\n",
       "       'systolic', 'gripForce', 'sit and bend forward_cm', 'sit-ups counts',\n",
       "       'broad jump_cm', 'class'],\n",
       "      dtype='object')"
      ]
     },
     "execution_count": 6,
     "metadata": {},
     "output_type": "execute_result"
    }
   ],
   "source": [
    "data.columns"
   ]
  },
  {
   "cell_type": "code",
   "execution_count": 7,
   "id": "bd06b7a0",
   "metadata": {
    "colab": {
     "base_uri": "https://localhost:8080/"
    },
    "id": "bd06b7a0",
    "outputId": "db6b044c-08f6-450a-f8e6-0a7e6c3f7eda"
   },
   "outputs": [
    {
     "name": "stdout",
     "output_type": "stream",
     "text": [
      "<class 'pandas.core.frame.DataFrame'>\n",
      "RangeIndex: 13393 entries, 0 to 13392\n",
      "Data columns (total 12 columns):\n",
      " #   Column                   Non-Null Count  Dtype  \n",
      "---  ------                   --------------  -----  \n",
      " 0   age                      13393 non-null  int64  \n",
      " 1   gender                   13393 non-null  object \n",
      " 2   height_cm                13393 non-null  float64\n",
      " 3   weight_kg                13393 non-null  float64\n",
      " 4   body fat_%               13393 non-null  float64\n",
      " 5   diastolic                13393 non-null  float64\n",
      " 6   systolic                 13393 non-null  float64\n",
      " 7   gripForce                13393 non-null  float64\n",
      " 8   sit and bend forward_cm  13393 non-null  float64\n",
      " 9   sit-ups counts           13393 non-null  float64\n",
      " 10  broad jump_cm            13393 non-null  float64\n",
      " 11  class                    13393 non-null  object \n",
      "dtypes: float64(9), int64(1), object(2)\n",
      "memory usage: 1.2+ MB\n"
     ]
    }
   ],
   "source": [
    "data.info()"
   ]
  },
  {
   "cell_type": "markdown",
   "id": "0a894e55",
   "metadata": {
    "id": "0a894e55"
   },
   "source": [
    "##### Two Columns are having Space in name.\n",
    "##### Hence Rename those two columns."
   ]
  },
  {
   "cell_type": "code",
   "execution_count": 8,
   "id": "ef5c2af8",
   "metadata": {
    "colab": {
     "base_uri": "https://localhost:8080/"
    },
    "id": "ef5c2af8",
    "outputId": "4871af5d-cb90-4468-ccf2-a485e5a22cb1"
   },
   "outputs": [
    {
     "name": "stdout",
     "output_type": "stream",
     "text": [
      "Index(['age', 'gender', 'height_cm', 'weight_kg', 'body_fat_percentage',\n",
      "       'diastolic', 'systolic', 'gripForce', 'sit_and_bend_forward_cm',\n",
      "       'sit-ups_counts', 'broad_jump_cm', 'class'],\n",
      "      dtype='object')\n"
     ]
    }
   ],
   "source": [
    "# Rename the column\n",
    "data.rename(columns={'sit and bend forward_cm': 'sit_and_bend_forward_cm'}, inplace=True)\n",
    "data.rename(columns={'body fat_%': 'body_fat_percentage'}, inplace=True)\n",
    "data.rename(columns={'sit-ups counts': 'sit-ups_counts'}, inplace=True)\n",
    "data.rename(columns={'broad jump_cm': 'broad_jump_cm'}, inplace=True)\n",
    "\n",
    "# Verify the updated column names\n",
    "print(data.columns)\n"
   ]
  },
  {
   "cell_type": "code",
   "execution_count": 9,
   "id": "5745f76c",
   "metadata": {
    "colab": {
     "base_uri": "https://localhost:8080/",
     "height": 344
    },
    "id": "5745f76c",
    "outputId": "1079def0-0c6b-4079-c12f-4c4a82c0b65a"
   },
   "outputs": [
    {
     "data": {
      "text/html": [
       "<div>\n",
       "<style scoped>\n",
       "    .dataframe tbody tr th:only-of-type {\n",
       "        vertical-align: middle;\n",
       "    }\n",
       "\n",
       "    .dataframe tbody tr th {\n",
       "        vertical-align: top;\n",
       "    }\n",
       "\n",
       "    .dataframe thead th {\n",
       "        text-align: right;\n",
       "    }\n",
       "</style>\n",
       "<table border=\"1\" class=\"dataframe\">\n",
       "  <thead>\n",
       "    <tr style=\"text-align: right;\">\n",
       "      <th></th>\n",
       "      <th>age</th>\n",
       "      <th>height_cm</th>\n",
       "      <th>weight_kg</th>\n",
       "      <th>body_fat_percentage</th>\n",
       "      <th>diastolic</th>\n",
       "      <th>systolic</th>\n",
       "      <th>gripForce</th>\n",
       "      <th>sit_and_bend_forward_cm</th>\n",
       "      <th>sit-ups_counts</th>\n",
       "      <th>broad_jump_cm</th>\n",
       "    </tr>\n",
       "  </thead>\n",
       "  <tbody>\n",
       "    <tr>\n",
       "      <th>count</th>\n",
       "      <td>13393.000000</td>\n",
       "      <td>13393.000000</td>\n",
       "      <td>13393.000000</td>\n",
       "      <td>13393.000000</td>\n",
       "      <td>13393.000000</td>\n",
       "      <td>13393.000000</td>\n",
       "      <td>13393.000000</td>\n",
       "      <td>13393.000000</td>\n",
       "      <td>13393.000000</td>\n",
       "      <td>13393.000000</td>\n",
       "    </tr>\n",
       "    <tr>\n",
       "      <th>mean</th>\n",
       "      <td>36.775106</td>\n",
       "      <td>168.559807</td>\n",
       "      <td>67.447316</td>\n",
       "      <td>23.240165</td>\n",
       "      <td>78.796842</td>\n",
       "      <td>130.234817</td>\n",
       "      <td>36.963877</td>\n",
       "      <td>15.209268</td>\n",
       "      <td>39.771224</td>\n",
       "      <td>190.129627</td>\n",
       "    </tr>\n",
       "    <tr>\n",
       "      <th>std</th>\n",
       "      <td>13.625639</td>\n",
       "      <td>8.426583</td>\n",
       "      <td>11.949666</td>\n",
       "      <td>7.256844</td>\n",
       "      <td>10.742033</td>\n",
       "      <td>14.713954</td>\n",
       "      <td>10.624864</td>\n",
       "      <td>8.456677</td>\n",
       "      <td>14.276698</td>\n",
       "      <td>39.868000</td>\n",
       "    </tr>\n",
       "    <tr>\n",
       "      <th>min</th>\n",
       "      <td>21.000000</td>\n",
       "      <td>125.000000</td>\n",
       "      <td>26.300000</td>\n",
       "      <td>3.000000</td>\n",
       "      <td>0.000000</td>\n",
       "      <td>0.000000</td>\n",
       "      <td>0.000000</td>\n",
       "      <td>-25.000000</td>\n",
       "      <td>0.000000</td>\n",
       "      <td>0.000000</td>\n",
       "    </tr>\n",
       "    <tr>\n",
       "      <th>25%</th>\n",
       "      <td>25.000000</td>\n",
       "      <td>162.400000</td>\n",
       "      <td>58.200000</td>\n",
       "      <td>18.000000</td>\n",
       "      <td>71.000000</td>\n",
       "      <td>120.000000</td>\n",
       "      <td>27.500000</td>\n",
       "      <td>10.900000</td>\n",
       "      <td>30.000000</td>\n",
       "      <td>162.000000</td>\n",
       "    </tr>\n",
       "    <tr>\n",
       "      <th>50%</th>\n",
       "      <td>32.000000</td>\n",
       "      <td>169.200000</td>\n",
       "      <td>67.400000</td>\n",
       "      <td>22.800000</td>\n",
       "      <td>79.000000</td>\n",
       "      <td>130.000000</td>\n",
       "      <td>37.900000</td>\n",
       "      <td>16.200000</td>\n",
       "      <td>41.000000</td>\n",
       "      <td>193.000000</td>\n",
       "    </tr>\n",
       "    <tr>\n",
       "      <th>75%</th>\n",
       "      <td>48.000000</td>\n",
       "      <td>174.800000</td>\n",
       "      <td>75.300000</td>\n",
       "      <td>28.000000</td>\n",
       "      <td>86.000000</td>\n",
       "      <td>141.000000</td>\n",
       "      <td>45.200000</td>\n",
       "      <td>20.700000</td>\n",
       "      <td>50.000000</td>\n",
       "      <td>221.000000</td>\n",
       "    </tr>\n",
       "    <tr>\n",
       "      <th>max</th>\n",
       "      <td>64.000000</td>\n",
       "      <td>193.800000</td>\n",
       "      <td>138.100000</td>\n",
       "      <td>78.400000</td>\n",
       "      <td>156.200000</td>\n",
       "      <td>201.000000</td>\n",
       "      <td>70.500000</td>\n",
       "      <td>213.000000</td>\n",
       "      <td>80.000000</td>\n",
       "      <td>303.000000</td>\n",
       "    </tr>\n",
       "  </tbody>\n",
       "</table>\n",
       "</div>"
      ],
      "text/plain": [
       "                age     height_cm     weight_kg  body_fat_percentage  \\\n",
       "count  13393.000000  13393.000000  13393.000000         13393.000000   \n",
       "mean      36.775106    168.559807     67.447316            23.240165   \n",
       "std       13.625639      8.426583     11.949666             7.256844   \n",
       "min       21.000000    125.000000     26.300000             3.000000   \n",
       "25%       25.000000    162.400000     58.200000            18.000000   \n",
       "50%       32.000000    169.200000     67.400000            22.800000   \n",
       "75%       48.000000    174.800000     75.300000            28.000000   \n",
       "max       64.000000    193.800000    138.100000            78.400000   \n",
       "\n",
       "          diastolic      systolic     gripForce  sit_and_bend_forward_cm  \\\n",
       "count  13393.000000  13393.000000  13393.000000             13393.000000   \n",
       "mean      78.796842    130.234817     36.963877                15.209268   \n",
       "std       10.742033     14.713954     10.624864                 8.456677   \n",
       "min        0.000000      0.000000      0.000000               -25.000000   \n",
       "25%       71.000000    120.000000     27.500000                10.900000   \n",
       "50%       79.000000    130.000000     37.900000                16.200000   \n",
       "75%       86.000000    141.000000     45.200000                20.700000   \n",
       "max      156.200000    201.000000     70.500000               213.000000   \n",
       "\n",
       "       sit-ups_counts  broad_jump_cm  \n",
       "count    13393.000000   13393.000000  \n",
       "mean        39.771224     190.129627  \n",
       "std         14.276698      39.868000  \n",
       "min          0.000000       0.000000  \n",
       "25%         30.000000     162.000000  \n",
       "50%         41.000000     193.000000  \n",
       "75%         50.000000     221.000000  \n",
       "max         80.000000     303.000000  "
      ]
     },
     "execution_count": 9,
     "metadata": {},
     "output_type": "execute_result"
    }
   ],
   "source": [
    "data.describe()"
   ]
  },
  {
   "cell_type": "code",
   "execution_count": 10,
   "id": "189f9249",
   "metadata": {
    "colab": {
     "base_uri": "https://localhost:8080/",
     "height": 174
    },
    "id": "189f9249",
    "outputId": "0a247209-903d-4b5e-a0fe-6c7fae5214f7"
   },
   "outputs": [
    {
     "data": {
      "text/html": [
       "<div>\n",
       "<style scoped>\n",
       "    .dataframe tbody tr th:only-of-type {\n",
       "        vertical-align: middle;\n",
       "    }\n",
       "\n",
       "    .dataframe tbody tr th {\n",
       "        vertical-align: top;\n",
       "    }\n",
       "\n",
       "    .dataframe thead th {\n",
       "        text-align: right;\n",
       "    }\n",
       "</style>\n",
       "<table border=\"1\" class=\"dataframe\">\n",
       "  <thead>\n",
       "    <tr style=\"text-align: right;\">\n",
       "      <th></th>\n",
       "      <th>gender</th>\n",
       "      <th>class</th>\n",
       "    </tr>\n",
       "  </thead>\n",
       "  <tbody>\n",
       "    <tr>\n",
       "      <th>count</th>\n",
       "      <td>13393</td>\n",
       "      <td>13393</td>\n",
       "    </tr>\n",
       "    <tr>\n",
       "      <th>unique</th>\n",
       "      <td>2</td>\n",
       "      <td>4</td>\n",
       "    </tr>\n",
       "    <tr>\n",
       "      <th>top</th>\n",
       "      <td>M</td>\n",
       "      <td>C</td>\n",
       "    </tr>\n",
       "    <tr>\n",
       "      <th>freq</th>\n",
       "      <td>8467</td>\n",
       "      <td>3349</td>\n",
       "    </tr>\n",
       "  </tbody>\n",
       "</table>\n",
       "</div>"
      ],
      "text/plain": [
       "       gender  class\n",
       "count   13393  13393\n",
       "unique      2      4\n",
       "top         M      C\n",
       "freq     8467   3349"
      ]
     },
     "execution_count": 10,
     "metadata": {},
     "output_type": "execute_result"
    }
   ],
   "source": [
    "data.describe(include = 'object')"
   ]
  },
  {
   "cell_type": "markdown",
   "id": "75315635",
   "metadata": {
    "id": "75315635"
   },
   "source": [
    "## Data Visualization and Pre-Processing Steps"
   ]
  },
  {
   "cell_type": "code",
   "execution_count": 11,
   "id": "2e4f46d7",
   "metadata": {
    "colab": {
     "base_uri": "https://localhost:8080/"
    },
    "id": "2e4f46d7",
    "outputId": "f98f39aa-a07b-4922-b93e-0aa6541fd507"
   },
   "outputs": [
    {
     "data": {
      "text/plain": [
       "M    8467\n",
       "F    4926\n",
       "Name: gender, dtype: int64"
      ]
     },
     "execution_count": 11,
     "metadata": {},
     "output_type": "execute_result"
    }
   ],
   "source": [
    "data['gender'].value_counts()"
   ]
  },
  {
   "cell_type": "code",
   "execution_count": 12,
   "id": "ab6c673a",
   "metadata": {
    "colab": {
     "base_uri": "https://localhost:8080/"
    },
    "id": "ab6c673a",
    "outputId": "cbbe9d5c-e981-45df-9147-abdee36fdba0"
   },
   "outputs": [
    {
     "data": {
      "text/plain": [
       "C    3349\n",
       "D    3349\n",
       "A    3348\n",
       "B    3347\n",
       "Name: class, dtype: int64"
      ]
     },
     "execution_count": 12,
     "metadata": {},
     "output_type": "execute_result"
    }
   ],
   "source": [
    "data['class'].value_counts()"
   ]
  },
  {
   "cell_type": "code",
   "execution_count": 13,
   "id": "d8a32087",
   "metadata": {
    "colab": {
     "base_uri": "https://localhost:8080/",
     "height": 307
    },
    "id": "d8a32087",
    "outputId": "98f4f725-f7b9-4f59-c08a-11c6bcd0dad5"
   },
   "outputs": [
    {
     "data": {
      "image/png": "[encoded data removed]",
      "text/plain": [
       "<Figure size 600x300 with 2 Axes>"
      ]
     },
     "metadata": {},
     "output_type": "display_data"
    }
   ],
   "source": [
    "import seaborn as sns\n",
    "bins = np.linspace(data.age.min(),data.age.max(), 10)\n",
    "g = sns.FacetGrid(data, col=\"gender\",hue=\"class\",palette=\"Set1\",col_wrap=2)\n",
    "g.map(plt.hist,'age',bins=bins,ec=\"k\")\n",
    "g.axes[-1].legend()\n",
    "plt.show()\n"
   ]
  },
  {
   "cell_type": "markdown",
   "id": "fefc9372",
   "metadata": {
    "id": "fefc9372"
   },
   "source": [
    "## Pre-processing: Feature selection/extraction"
   ]
  },
  {
   "cell_type": "markdown",
   "id": "92e5273a",
   "metadata": {
    "id": "92e5273a"
   },
   "source": [
    "##### Convert Categorical features to Numerical Values"
   ]
  },
  {
   "cell_type": "markdown",
   "id": "42af7b6d",
   "metadata": {
    "id": "42af7b6d"
   },
   "source": [
    "**gender Column**\n",
    "\n",
    "Male :- 0\n",
    "\n",
    "Female :- 1"
   ]
  },
  {
   "cell_type": "code",
   "execution_count": 14,
   "id": "5859123a",
   "metadata": {
    "colab": {
     "base_uri": "https://localhost:8080/"
    },
    "id": "5859123a",
    "outputId": "24aa9d7c-13aa-49bb-e777-9d1a211faf7e"
   },
   "outputs": [
    {
     "data": {
      "text/plain": [
       "gender  class\n",
       "F       A        30.125863\n",
       "        B        24.056029\n",
       "        C        22.574097\n",
       "        D        23.244011\n",
       "M       A        22.014881\n",
       "        B        25.534428\n",
       "        C        26.420220\n",
       "        D        26.030471\n",
       "dtype: float64"
      ]
     },
     "execution_count": 14,
     "metadata": {},
     "output_type": "execute_result"
    }
   ],
   "source": [
    "data.groupby(['gender', 'class']).size().groupby(level=0).apply(lambda x: 100 * x / x.sum())"
   ]
  },
  {
   "cell_type": "code",
   "execution_count": 15,
   "id": "3a5cb342",
   "metadata": {
    "colab": {
     "base_uri": "https://localhost:8080/",
     "height": 206
    },
    "id": "3a5cb342",
    "outputId": "df2cb64c-69ad-498f-9500-6a0c9e2a465d"
   },
   "outputs": [
    {
     "data": {
      "text/html": [
       "<div>\n",
       "<style scoped>\n",
       "    .dataframe tbody tr th:only-of-type {\n",
       "        vertical-align: middle;\n",
       "    }\n",
       "\n",
       "    .dataframe tbody tr th {\n",
       "        vertical-align: top;\n",
       "    }\n",
       "\n",
       "    .dataframe thead th {\n",
       "        text-align: right;\n",
       "    }\n",
       "</style>\n",
       "<table border=\"1\" class=\"dataframe\">\n",
       "  <thead>\n",
       "    <tr style=\"text-align: right;\">\n",
       "      <th></th>\n",
       "      <th>age</th>\n",
       "      <th>gender</th>\n",
       "      <th>height_cm</th>\n",
       "      <th>weight_kg</th>\n",
       "      <th>body_fat_percentage</th>\n",
       "      <th>diastolic</th>\n",
       "      <th>systolic</th>\n",
       "      <th>gripForce</th>\n",
       "      <th>sit_and_bend_forward_cm</th>\n",
       "      <th>sit-ups_counts</th>\n",
       "      <th>broad_jump_cm</th>\n",
       "      <th>class</th>\n",
       "    </tr>\n",
       "  </thead>\n",
       "  <tbody>\n",
       "    <tr>\n",
       "      <th>0</th>\n",
       "      <td>27</td>\n",
       "      <td>0</td>\n",
       "      <td>172.3</td>\n",
       "      <td>75.24</td>\n",
       "      <td>21.3</td>\n",
       "      <td>80.0</td>\n",
       "      <td>130.0</td>\n",
       "      <td>54.9</td>\n",
       "      <td>18.4</td>\n",
       "      <td>60.0</td>\n",
       "      <td>217.0</td>\n",
       "      <td>C</td>\n",
       "    </tr>\n",
       "    <tr>\n",
       "      <th>1</th>\n",
       "      <td>25</td>\n",
       "      <td>0</td>\n",
       "      <td>165.0</td>\n",
       "      <td>55.80</td>\n",
       "      <td>15.7</td>\n",
       "      <td>77.0</td>\n",
       "      <td>126.0</td>\n",
       "      <td>36.4</td>\n",
       "      <td>16.3</td>\n",
       "      <td>53.0</td>\n",
       "      <td>229.0</td>\n",
       "      <td>A</td>\n",
       "    </tr>\n",
       "    <tr>\n",
       "      <th>2</th>\n",
       "      <td>31</td>\n",
       "      <td>0</td>\n",
       "      <td>179.6</td>\n",
       "      <td>78.00</td>\n",
       "      <td>20.1</td>\n",
       "      <td>92.0</td>\n",
       "      <td>152.0</td>\n",
       "      <td>44.8</td>\n",
       "      <td>12.0</td>\n",
       "      <td>49.0</td>\n",
       "      <td>181.0</td>\n",
       "      <td>C</td>\n",
       "    </tr>\n",
       "    <tr>\n",
       "      <th>3</th>\n",
       "      <td>32</td>\n",
       "      <td>0</td>\n",
       "      <td>174.5</td>\n",
       "      <td>71.10</td>\n",
       "      <td>18.4</td>\n",
       "      <td>76.0</td>\n",
       "      <td>147.0</td>\n",
       "      <td>41.4</td>\n",
       "      <td>15.2</td>\n",
       "      <td>53.0</td>\n",
       "      <td>219.0</td>\n",
       "      <td>B</td>\n",
       "    </tr>\n",
       "    <tr>\n",
       "      <th>4</th>\n",
       "      <td>28</td>\n",
       "      <td>0</td>\n",
       "      <td>173.8</td>\n",
       "      <td>67.70</td>\n",
       "      <td>17.1</td>\n",
       "      <td>70.0</td>\n",
       "      <td>127.0</td>\n",
       "      <td>43.5</td>\n",
       "      <td>27.1</td>\n",
       "      <td>45.0</td>\n",
       "      <td>217.0</td>\n",
       "      <td>B</td>\n",
       "    </tr>\n",
       "  </tbody>\n",
       "</table>\n",
       "</div>"
      ],
      "text/plain": [
       "   age  gender  height_cm  weight_kg  body_fat_percentage  diastolic  \\\n",
       "0   27       0      172.3      75.24                 21.3       80.0   \n",
       "1   25       0      165.0      55.80                 15.7       77.0   \n",
       "2   31       0      179.6      78.00                 20.1       92.0   \n",
       "3   32       0      174.5      71.10                 18.4       76.0   \n",
       "4   28       0      173.8      67.70                 17.1       70.0   \n",
       "\n",
       "   systolic  gripForce  sit_and_bend_forward_cm  sit-ups_counts  \\\n",
       "0     130.0       54.9                     18.4            60.0   \n",
       "1     126.0       36.4                     16.3            53.0   \n",
       "2     152.0       44.8                     12.0            49.0   \n",
       "3     147.0       41.4                     15.2            53.0   \n",
       "4     127.0       43.5                     27.1            45.0   \n",
       "\n",
       "   broad_jump_cm class  \n",
       "0          217.0     C  \n",
       "1          229.0     A  \n",
       "2          181.0     C  \n",
       "3          219.0     B  \n",
       "4          217.0     B  "
      ]
     },
     "execution_count": 15,
     "metadata": {},
     "output_type": "execute_result"
    }
   ],
   "source": [
    "data['gender'].replace(to_replace=['M', 'F'], value=[0, 1], inplace=True)\n",
    "\n",
    "data.head()"
   ]
  },
  {
   "cell_type": "markdown",
   "id": "8e2f9f4d",
   "metadata": {
    "id": "8e2f9f4d"
   },
   "source": [
    "**class Column**\n",
    "\n",
    "A :- 1\n",
    "\n",
    "B :- 2\n",
    "\n",
    "C :- 3\n",
    "\n",
    "D :- 4"
   ]
  },
  {
   "cell_type": "code",
   "execution_count": 16,
   "id": "7339736d",
   "metadata": {
    "colab": {
     "base_uri": "https://localhost:8080/"
    },
    "id": "7339736d",
    "outputId": "b829d93f-465e-4e0a-8d5b-f6d1d61b3e80"
   },
   "outputs": [
    {
     "data": {
      "text/plain": [
       "age  class\n",
       "21   A        23.340249\n",
       "     B        23.858921\n",
       "     C        27.178423\n",
       "     D        25.622407\n",
       "22   A        23.574144\n",
       "                ...    \n",
       "63   D        30.434783\n",
       "64   A        20.465116\n",
       "     B        23.720930\n",
       "     C        24.186047\n",
       "     D        31.627907\n",
       "Length: 176, dtype: float64"
      ]
     },
     "execution_count": 16,
     "metadata": {},
     "output_type": "execute_result"
    }
   ],
   "source": [
    "data.groupby(['age','class']).size().groupby(level=0).apply(lambda x: 100 * x / x.sum())"
   ]
  },
  {
   "cell_type": "code",
   "execution_count": 17,
   "id": "a89206d2",
   "metadata": {
    "colab": {
     "base_uri": "https://localhost:8080/",
     "height": 206
    },
    "id": "a89206d2",
    "outputId": "4790741e-dd7a-45fb-9e55-a3d854669f09"
   },
   "outputs": [
    {
     "data": {
      "text/html": [
       "<div>\n",
       "<style scoped>\n",
       "    .dataframe tbody tr th:only-of-type {\n",
       "        vertical-align: middle;\n",
       "    }\n",
       "\n",
       "    .dataframe tbody tr th {\n",
       "        vertical-align: top;\n",
       "    }\n",
       "\n",
       "    .dataframe thead th {\n",
       "        text-align: right;\n",
       "    }\n",
       "</style>\n",
       "<table border=\"1\" class=\"dataframe\">\n",
       "  <thead>\n",
       "    <tr style=\"text-align: right;\">\n",
       "      <th></th>\n",
       "      <th>age</th>\n",
       "      <th>gender</th>\n",
       "      <th>height_cm</th>\n",
       "      <th>weight_kg</th>\n",
       "      <th>body_fat_percentage</th>\n",
       "      <th>diastolic</th>\n",
       "      <th>systolic</th>\n",
       "      <th>gripForce</th>\n",
       "      <th>sit_and_bend_forward_cm</th>\n",
       "      <th>sit-ups_counts</th>\n",
       "      <th>broad_jump_cm</th>\n",
       "      <th>class</th>\n",
       "    </tr>\n",
       "  </thead>\n",
       "  <tbody>\n",
       "    <tr>\n",
       "      <th>0</th>\n",
       "      <td>27</td>\n",
       "      <td>0</td>\n",
       "      <td>172.3</td>\n",
       "      <td>75.24</td>\n",
       "      <td>21.3</td>\n",
       "      <td>80.0</td>\n",
       "      <td>130.0</td>\n",
       "      <td>54.9</td>\n",
       "      <td>18.4</td>\n",
       "      <td>60.0</td>\n",
       "      <td>217.0</td>\n",
       "      <td>3</td>\n",
       "    </tr>\n",
       "    <tr>\n",
       "      <th>1</th>\n",
       "      <td>25</td>\n",
       "      <td>0</td>\n",
       "      <td>165.0</td>\n",
       "      <td>55.80</td>\n",
       "      <td>15.7</td>\n",
       "      <td>77.0</td>\n",
       "      <td>126.0</td>\n",
       "      <td>36.4</td>\n",
       "      <td>16.3</td>\n",
       "      <td>53.0</td>\n",
       "      <td>229.0</td>\n",
       "      <td>1</td>\n",
       "    </tr>\n",
       "    <tr>\n",
       "      <th>2</th>\n",
       "      <td>31</td>\n",
       "      <td>0</td>\n",
       "      <td>179.6</td>\n",
       "      <td>78.00</td>\n",
       "      <td>20.1</td>\n",
       "      <td>92.0</td>\n",
       "      <td>152.0</td>\n",
       "      <td>44.8</td>\n",
       "      <td>12.0</td>\n",
       "      <td>49.0</td>\n",
       "      <td>181.0</td>\n",
       "      <td>3</td>\n",
       "    </tr>\n",
       "    <tr>\n",
       "      <th>3</th>\n",
       "      <td>32</td>\n",
       "      <td>0</td>\n",
       "      <td>174.5</td>\n",
       "      <td>71.10</td>\n",
       "      <td>18.4</td>\n",
       "      <td>76.0</td>\n",
       "      <td>147.0</td>\n",
       "      <td>41.4</td>\n",
       "      <td>15.2</td>\n",
       "      <td>53.0</td>\n",
       "      <td>219.0</td>\n",
       "      <td>2</td>\n",
       "    </tr>\n",
       "    <tr>\n",
       "      <th>4</th>\n",
       "      <td>28</td>\n",
       "      <td>0</td>\n",
       "      <td>173.8</td>\n",
       "      <td>67.70</td>\n",
       "      <td>17.1</td>\n",
       "      <td>70.0</td>\n",
       "      <td>127.0</td>\n",
       "      <td>43.5</td>\n",
       "      <td>27.1</td>\n",
       "      <td>45.0</td>\n",
       "      <td>217.0</td>\n",
       "      <td>2</td>\n",
       "    </tr>\n",
       "  </tbody>\n",
       "</table>\n",
       "</div>"
      ],
      "text/plain": [
       "   age  gender  height_cm  weight_kg  body_fat_percentage  diastolic  \\\n",
       "0   27       0      172.3      75.24                 21.3       80.0   \n",
       "1   25       0      165.0      55.80                 15.7       77.0   \n",
       "2   31       0      179.6      78.00                 20.1       92.0   \n",
       "3   32       0      174.5      71.10                 18.4       76.0   \n",
       "4   28       0      173.8      67.70                 17.1       70.0   \n",
       "\n",
       "   systolic  gripForce  sit_and_bend_forward_cm  sit-ups_counts  \\\n",
       "0     130.0       54.9                     18.4            60.0   \n",
       "1     126.0       36.4                     16.3            53.0   \n",
       "2     152.0       44.8                     12.0            49.0   \n",
       "3     147.0       41.4                     15.2            53.0   \n",
       "4     127.0       43.5                     27.1            45.0   \n",
       "\n",
       "   broad_jump_cm  class  \n",
       "0          217.0      3  \n",
       "1          229.0      1  \n",
       "2          181.0      3  \n",
       "3          219.0      2  \n",
       "4          217.0      2  "
      ]
     },
     "execution_count": 17,
     "metadata": {},
     "output_type": "execute_result"
    }
   ],
   "source": [
    "data['class'].replace(to_replace=['A', 'B','C','D'], value=[1, 2, 3, 4], inplace=True)\n",
    "\n",
    "data.head()"
   ]
  },
  {
   "cell_type": "markdown",
   "id": "3ce6982d",
   "metadata": {
    "id": "3ce6982d"
   },
   "source": [
    "## Selecting Features"
   ]
  },
  {
   "cell_type": "code",
   "execution_count": 18,
   "id": "225f9c39",
   "metadata": {
    "id": "225f9c39"
   },
   "outputs": [],
   "source": [
    "Feature = data[['age', 'gender', 'height_cm', 'weight_kg', 'body_fat_percentage',\n",
    "       'diastolic', 'systolic', 'gripForce', 'sit_and_bend_forward_cm',\n",
    "       'sit-ups_counts', 'broad_jump_cm']]"
   ]
  },
  {
   "cell_type": "code",
   "execution_count": 19,
   "id": "620e8130",
   "metadata": {
    "colab": {
     "base_uri": "https://localhost:8080/",
     "height": 206
    },
    "id": "620e8130",
    "outputId": "ec43327f-5857-4896-e0e8-e418fc40635b"
   },
   "outputs": [
    {
     "data": {
      "text/html": [
       "<div>\n",
       "<style scoped>\n",
       "    .dataframe tbody tr th:only-of-type {\n",
       "        vertical-align: middle;\n",
       "    }\n",
       "\n",
       "    .dataframe tbody tr th {\n",
       "        vertical-align: top;\n",
       "    }\n",
       "\n",
       "    .dataframe thead th {\n",
       "        text-align: right;\n",
       "    }\n",
       "</style>\n",
       "<table border=\"1\" class=\"dataframe\">\n",
       "  <thead>\n",
       "    <tr style=\"text-align: right;\">\n",
       "      <th></th>\n",
       "      <th>age</th>\n",
       "      <th>gender</th>\n",
       "      <th>height_cm</th>\n",
       "      <th>weight_kg</th>\n",
       "      <th>body_fat_percentage</th>\n",
       "      <th>diastolic</th>\n",
       "      <th>systolic</th>\n",
       "      <th>gripForce</th>\n",
       "      <th>sit_and_bend_forward_cm</th>\n",
       "      <th>sit-ups_counts</th>\n",
       "      <th>broad_jump_cm</th>\n",
       "    </tr>\n",
       "  </thead>\n",
       "  <tbody>\n",
       "    <tr>\n",
       "      <th>0</th>\n",
       "      <td>27</td>\n",
       "      <td>0</td>\n",
       "      <td>172.3</td>\n",
       "      <td>75.24</td>\n",
       "      <td>21.3</td>\n",
       "      <td>80.0</td>\n",
       "      <td>130.0</td>\n",
       "      <td>54.9</td>\n",
       "      <td>18.4</td>\n",
       "      <td>60.0</td>\n",
       "      <td>217.0</td>\n",
       "    </tr>\n",
       "    <tr>\n",
       "      <th>1</th>\n",
       "      <td>25</td>\n",
       "      <td>0</td>\n",
       "      <td>165.0</td>\n",
       "      <td>55.80</td>\n",
       "      <td>15.7</td>\n",
       "      <td>77.0</td>\n",
       "      <td>126.0</td>\n",
       "      <td>36.4</td>\n",
       "      <td>16.3</td>\n",
       "      <td>53.0</td>\n",
       "      <td>229.0</td>\n",
       "    </tr>\n",
       "    <tr>\n",
       "      <th>2</th>\n",
       "      <td>31</td>\n",
       "      <td>0</td>\n",
       "      <td>179.6</td>\n",
       "      <td>78.00</td>\n",
       "      <td>20.1</td>\n",
       "      <td>92.0</td>\n",
       "      <td>152.0</td>\n",
       "      <td>44.8</td>\n",
       "      <td>12.0</td>\n",
       "      <td>49.0</td>\n",
       "      <td>181.0</td>\n",
       "    </tr>\n",
       "    <tr>\n",
       "      <th>3</th>\n",
       "      <td>32</td>\n",
       "      <td>0</td>\n",
       "      <td>174.5</td>\n",
       "      <td>71.10</td>\n",
       "      <td>18.4</td>\n",
       "      <td>76.0</td>\n",
       "      <td>147.0</td>\n",
       "      <td>41.4</td>\n",
       "      <td>15.2</td>\n",
       "      <td>53.0</td>\n",
       "      <td>219.0</td>\n",
       "    </tr>\n",
       "    <tr>\n",
       "      <th>4</th>\n",
       "      <td>28</td>\n",
       "      <td>0</td>\n",
       "      <td>173.8</td>\n",
       "      <td>67.70</td>\n",
       "      <td>17.1</td>\n",
       "      <td>70.0</td>\n",
       "      <td>127.0</td>\n",
       "      <td>43.5</td>\n",
       "      <td>27.1</td>\n",
       "      <td>45.0</td>\n",
       "      <td>217.0</td>\n",
       "    </tr>\n",
       "  </tbody>\n",
       "</table>\n",
       "</div>"
      ],
      "text/plain": [
       "   age  gender  height_cm  weight_kg  body_fat_percentage  diastolic  \\\n",
       "0   27       0      172.3      75.24                 21.3       80.0   \n",
       "1   25       0      165.0      55.80                 15.7       77.0   \n",
       "2   31       0      179.6      78.00                 20.1       92.0   \n",
       "3   32       0      174.5      71.10                 18.4       76.0   \n",
       "4   28       0      173.8      67.70                 17.1       70.0   \n",
       "\n",
       "   systolic  gripForce  sit_and_bend_forward_cm  sit-ups_counts  broad_jump_cm  \n",
       "0     130.0       54.9                     18.4            60.0          217.0  \n",
       "1     126.0       36.4                     16.3            53.0          229.0  \n",
       "2     152.0       44.8                     12.0            49.0          181.0  \n",
       "3     147.0       41.4                     15.2            53.0          219.0  \n",
       "4     127.0       43.5                     27.1            45.0          217.0  "
      ]
     },
     "execution_count": 19,
     "metadata": {},
     "output_type": "execute_result"
    }
   ],
   "source": [
    "Feature.head()"
   ]
  },
  {
   "cell_type": "code",
   "execution_count": 20,
   "id": "1a6f00f3",
   "metadata": {
    "colab": {
     "base_uri": "https://localhost:8080/"
    },
    "id": "1a6f00f3",
    "outputId": "e833eb17-8775-4db7-a0ea-6d6d862a1425"
   },
   "outputs": [
    {
     "name": "stdout",
     "output_type": "stream",
     "text": [
      "<class 'pandas.core.frame.DataFrame'>\n",
      "RangeIndex: 13393 entries, 0 to 13392\n",
      "Data columns (total 11 columns):\n",
      " #   Column                   Non-Null Count  Dtype  \n",
      "---  ------                   --------------  -----  \n",
      " 0   age                      13393 non-null  int64  \n",
      " 1   gender                   13393 non-null  int64  \n",
      " 2   height_cm                13393 non-null  float64\n",
      " 3   weight_kg                13393 non-null  float64\n",
      " 4   body_fat_percentage      13393 non-null  float64\n",
      " 5   diastolic                13393 non-null  float64\n",
      " 6   systolic                 13393 non-null  float64\n",
      " 7   gripForce                13393 non-null  float64\n",
      " 8   sit_and_bend_forward_cm  13393 non-null  float64\n",
      " 9   sit-ups_counts           13393 non-null  float64\n",
      " 10  broad_jump_cm            13393 non-null  float64\n",
      "dtypes: float64(9), int64(2)\n",
      "memory usage: 1.1 MB\n"
     ]
    }
   ],
   "source": [
    "Feature.info()"
   ]
  },
  {
   "cell_type": "markdown",
   "id": "b4e3cb2d",
   "metadata": {
    "id": "b4e3cb2d"
   },
   "source": [
    "## Lets Define Feature sets, X:"
   ]
  },
  {
   "cell_type": "code",
   "execution_count": 21,
   "id": "5a6faf74",
   "metadata": {
    "colab": {
     "base_uri": "https://localhost:8080/",
     "height": 206
    },
    "id": "5a6faf74",
    "outputId": "987ac262-eb17-43d9-d933-29ee4cba8e02"
   },
   "outputs": [
    {
     "data": {
      "text/html": [
       "<div>\n",
       "<style scoped>\n",
       "    .dataframe tbody tr th:only-of-type {\n",
       "        vertical-align: middle;\n",
       "    }\n",
       "\n",
       "    .dataframe tbody tr th {\n",
       "        vertical-align: top;\n",
       "    }\n",
       "\n",
       "    .dataframe thead th {\n",
       "        text-align: right;\n",
       "    }\n",
       "</style>\n",
       "<table border=\"1\" class=\"dataframe\">\n",
       "  <thead>\n",
       "    <tr style=\"text-align: right;\">\n",
       "      <th></th>\n",
       "      <th>age</th>\n",
       "      <th>gender</th>\n",
       "      <th>height_cm</th>\n",
       "      <th>weight_kg</th>\n",
       "      <th>body_fat_percentage</th>\n",
       "      <th>diastolic</th>\n",
       "      <th>systolic</th>\n",
       "      <th>gripForce</th>\n",
       "      <th>sit_and_bend_forward_cm</th>\n",
       "      <th>sit-ups_counts</th>\n",
       "      <th>broad_jump_cm</th>\n",
       "    </tr>\n",
       "  </thead>\n",
       "  <tbody>\n",
       "    <tr>\n",
       "      <th>0</th>\n",
       "      <td>27</td>\n",
       "      <td>0</td>\n",
       "      <td>172.3</td>\n",
       "      <td>75.24</td>\n",
       "      <td>21.3</td>\n",
       "      <td>80.0</td>\n",
       "      <td>130.0</td>\n",
       "      <td>54.9</td>\n",
       "      <td>18.4</td>\n",
       "      <td>60.0</td>\n",
       "      <td>217.0</td>\n",
       "    </tr>\n",
       "    <tr>\n",
       "      <th>1</th>\n",
       "      <td>25</td>\n",
       "      <td>0</td>\n",
       "      <td>165.0</td>\n",
       "      <td>55.80</td>\n",
       "      <td>15.7</td>\n",
       "      <td>77.0</td>\n",
       "      <td>126.0</td>\n",
       "      <td>36.4</td>\n",
       "      <td>16.3</td>\n",
       "      <td>53.0</td>\n",
       "      <td>229.0</td>\n",
       "    </tr>\n",
       "    <tr>\n",
       "      <th>2</th>\n",
       "      <td>31</td>\n",
       "      <td>0</td>\n",
       "      <td>179.6</td>\n",
       "      <td>78.00</td>\n",
       "      <td>20.1</td>\n",
       "      <td>92.0</td>\n",
       "      <td>152.0</td>\n",
       "      <td>44.8</td>\n",
       "      <td>12.0</td>\n",
       "      <td>49.0</td>\n",
       "      <td>181.0</td>\n",
       "    </tr>\n",
       "    <tr>\n",
       "      <th>3</th>\n",
       "      <td>32</td>\n",
       "      <td>0</td>\n",
       "      <td>174.5</td>\n",
       "      <td>71.10</td>\n",
       "      <td>18.4</td>\n",
       "      <td>76.0</td>\n",
       "      <td>147.0</td>\n",
       "      <td>41.4</td>\n",
       "      <td>15.2</td>\n",
       "      <td>53.0</td>\n",
       "      <td>219.0</td>\n",
       "    </tr>\n",
       "    <tr>\n",
       "      <th>4</th>\n",
       "      <td>28</td>\n",
       "      <td>0</td>\n",
       "      <td>173.8</td>\n",
       "      <td>67.70</td>\n",
       "      <td>17.1</td>\n",
       "      <td>70.0</td>\n",
       "      <td>127.0</td>\n",
       "      <td>43.5</td>\n",
       "      <td>27.1</td>\n",
       "      <td>45.0</td>\n",
       "      <td>217.0</td>\n",
       "    </tr>\n",
       "  </tbody>\n",
       "</table>\n",
       "</div>"
      ],
      "text/plain": [
       "   age  gender  height_cm  weight_kg  body_fat_percentage  diastolic  \\\n",
       "0   27       0      172.3      75.24                 21.3       80.0   \n",
       "1   25       0      165.0      55.80                 15.7       77.0   \n",
       "2   31       0      179.6      78.00                 20.1       92.0   \n",
       "3   32       0      174.5      71.10                 18.4       76.0   \n",
       "4   28       0      173.8      67.70                 17.1       70.0   \n",
       "\n",
       "   systolic  gripForce  sit_and_bend_forward_cm  sit-ups_counts  broad_jump_cm  \n",
       "0     130.0       54.9                     18.4            60.0          217.0  \n",
       "1     126.0       36.4                     16.3            53.0          229.0  \n",
       "2     152.0       44.8                     12.0            49.0          181.0  \n",
       "3     147.0       41.4                     15.2            53.0          219.0  \n",
       "4     127.0       43.5                     27.1            45.0          217.0  "
      ]
     },
     "execution_count": 21,
     "metadata": {},
     "output_type": "execute_result"
    }
   ],
   "source": [
    "X = Feature\n",
    "X[0:5]"
   ]
  },
  {
   "cell_type": "markdown",
   "id": "40a1f18d",
   "metadata": {
    "id": "40a1f18d"
   },
   "source": [
    "## What are our lables? Create Output Variable"
   ]
  },
  {
   "cell_type": "code",
   "execution_count": 22,
   "id": "18ac6004",
   "metadata": {
    "colab": {
     "base_uri": "https://localhost:8080/"
    },
    "id": "18ac6004",
    "outputId": "10aa5056-f481-4cdc-d50a-0be33c7e4d69"
   },
   "outputs": [
    {
     "data": {
      "text/plain": [
       "0    3\n",
       "1    1\n",
       "2    3\n",
       "3    2\n",
       "4    2\n",
       "Name: class, dtype: int64"
      ]
     },
     "execution_count": 22,
     "metadata": {},
     "output_type": "execute_result"
    }
   ],
   "source": [
    "y = data['class']\n",
    "y[0:5]"
   ]
  },
  {
   "cell_type": "markdown",
   "id": "3ce216fa",
   "metadata": {
    "id": "3ce216fa"
   },
   "source": [
    "## Normalize Data"
   ]
  },
  {
   "cell_type": "code",
   "execution_count": 23,
   "id": "e6be6664",
   "metadata": {
    "colab": {
     "base_uri": "https://localhost:8080/"
    },
    "id": "e6be6664",
    "outputId": "1e798919-b656-48ed-bbb2-b4062faf2c91"
   },
   "outputs": [
    {
     "data": {
      "text/plain": [
       "array([[-7.17432115e-01, -7.62750365e-01,  4.43872976e-01,\n",
       "         6.52150023e-01, -2.67366553e-01,  1.12008898e-01,\n",
       "        -1.59593723e-02,  1.68819029e+00,  3.77317337e-01,\n",
       "         1.41696147e+00,  6.74008621e-01],\n",
       "       [-8.64219697e-01, -7.62750365e-01, -4.22465483e-01,\n",
       "        -9.74734380e-01, -1.03908068e+00, -1.67278271e-01,\n",
       "        -2.87820319e-01, -5.30734746e-02,  1.28983577e-01,\n",
       "         9.26633723e-01,  9.75013135e-01],\n",
       "       [-4.23856952e-01, -7.62750365e-01,  1.31021144e+00,\n",
       "         8.83127438e-01, -4.32733865e-01,  1.22915757e+00,\n",
       "         1.47927584e+00,  7.37554395e-01, -3.79509362e-01,\n",
       "         6.46446438e-01, -2.29004922e-01],\n",
       "       [-3.50463161e-01, -7.62750365e-01,  7.04961279e-01,\n",
       "         3.05683900e-01, -6.67004225e-01, -2.60373993e-01,\n",
       "         1.13944965e+00,  4.17538353e-01, -1.09601212e-03,\n",
       "         9.26633723e-01,  7.24176040e-01],\n",
       "       [-6.44038324e-01, -7.62750365e-01,  6.21887728e-01,\n",
       "         2.11465044e-02, -8.46152146e-01, -8.18948330e-01,\n",
       "        -2.19855083e-01,  6.15195320e-01,  1.40612863e+00,\n",
       "         3.66259153e-01,  6.74008621e-01]])"
      ]
     },
     "execution_count": 23,
     "metadata": {},
     "output_type": "execute_result"
    }
   ],
   "source": [
    "from sklearn import preprocessing\n",
    "\n",
    "X = preprocessing.StandardScaler().fit(X).transform(X)\n",
    "X[0:5]"
   ]
  },
  {
   "cell_type": "markdown",
   "id": "5d086622",
   "metadata": {
    "id": "5d086622"
   },
   "source": [
    "## Split the Data into Training and Testing Set"
   ]
  },
  {
   "cell_type": "code",
   "execution_count": 24,
   "id": "d532dbd0",
   "metadata": {
    "colab": {
     "base_uri": "https://localhost:8080/"
    },
    "id": "d532dbd0",
    "outputId": "6a4d55f6-0003-418e-b959-4092aa221ba1"
   },
   "outputs": [
    {
     "name": "stdout",
     "output_type": "stream",
     "text": [
      "Train set: (10714, 11) (10714,)\n",
      "Test set: (2679, 11) (2679,)\n"
     ]
    }
   ],
   "source": [
    "from sklearn.model_selection import train_test_split\n",
    "X_train, X_test, y_train, y_test = train_test_split( X, \n",
    "                                                    y, \n",
    "                                                    test_size = 0.2,\n",
    "                                                    random_state = 3)\n",
    "print ('Train set:', X_train.shape, y_train.shape)\n",
    "print ('Test set:', X_test.shape, y_test.shape)"
   ]
  },
  {
   "cell_type": "markdown",
   "id": "7f38e858",
   "metadata": {
    "id": "7f38e858"
   },
   "source": [
    "# Classification\n",
    "\n",
    "**Algorithms I'm using**\n",
    "\n",
    "A) K Nearest Neighbor(KNN)\n",
    "\n",
    "B) Decision Tree\n",
    "\n",
    "C) Support Vector Machine\n",
    "\n",
    "D) Logistic Regression"
   ]
  },
  {
   "cell_type": "markdown",
   "id": "4ed94020",
   "metadata": {
    "id": "4ed94020"
   },
   "source": [
    "# Model 1 : K Nearest Neighbor(KNN)"
   ]
  },
  {
   "cell_type": "code",
   "execution_count": 25,
   "id": "ce67fad2",
   "metadata": {
    "colab": {
     "base_uri": "https://localhost:8080/",
     "height": 504
    },
    "id": "ce67fad2",
    "outputId": "ed40529d-dffa-4891-cc03-7ac75531ec33",
    "scrolled": false
   },
   "outputs": [
    {
     "data": {
      "image/png": "[encoded data removed]",
      "text/plain": [
       "<Figure size 640x480 with 1 Axes>"
      ]
     },
     "metadata": {},
     "output_type": "display_data"
    },
    {
     "name": "stdout",
     "output_type": "stream",
     "text": [
      "The best accuracy was with 0.6233669279581934 with k = 26\n"
     ]
    }
   ],
   "source": [
    "from sklearn.neighbors import KNeighborsClassifier\n",
    "from sklearn import metrics\n",
    "\n",
    "Ks = 50\n",
    "mean_acc = np.zeros((Ks-1))\n",
    "std_acc = np.zeros((Ks-1))\n",
    "for n in range(1,Ks):\n",
    "    knn1 = KNeighborsClassifier(n_neighbors = n).fit(X_train,y_train)\n",
    "    yhat=knn1.predict(X_test)\n",
    "    mean_acc[n-1] = metrics.accuracy_score(y_test, yhat)\n",
    "    std_acc[n-1]=np.std(yhat==y_test)/np.sqrt(yhat.shape[0])\n",
    "\n",
    "mean_acc\n",
    "\n",
    "plt.plot(range(1, Ks), mean_acc, 'g')\n",
    "plt.fill_between(range(1, Ks), mean_acc - 1 * std_acc, \n",
    "                 mean_acc + 1 * std_acc, alpha=0.3)\n",
    "plt.fill_between(range(1, Ks), mean_acc - 3 * std_acc, \n",
    "                 mean_acc + 3 * std_acc, alpha=0.1)\n",
    "plt.legend(('Accuracy', '+/- 1xstd', '+/- 3xstd'))\n",
    "plt.ylabel('Accuracy')\n",
    "plt.xlabel('Number of Neighbors (K)')\n",
    "plt.tight_layout()\n",
    "plt.show()\n",
    "\n",
    "\n",
    "best_k = np.argmax(mean_acc) + 1\n",
    "print(\"The best accuracy was with\", mean_acc.max(), \"with k =\", best_k)"
   ]
  },
  {
   "cell_type": "markdown",
   "id": "3c09fc19",
   "metadata": {
    "id": "3c09fc19"
   },
   "source": [
    "### Paramter Tunning using Grid Search cv"
   ]
  },
  {
   "cell_type": "code",
   "execution_count": 26,
   "id": "C_VCd3RAtyCF",
   "metadata": {
    "colab": {
     "base_uri": "https://localhost:8080/",
     "height": 116
    },
    "id": "C_VCd3RAtyCF",
    "outputId": "a6c52629-2573-4d91-a52c-b3bbd9bf4f06"
   },
   "outputs": [
    {
     "data": {
      "text/plain": [
       "GridSearchCV(cv=10, estimator=KNeighborsClassifier(),\n",
       "             param_grid={'n_neighbors': [1, 2, 3, 4, 5, 6, 7, 8, 9, 10, 11, 12,\n",
       "                                         13, 14, 15, 16, 17, 18, 19, 20, 21, 22,\n",
       "                                         23, 24, 25, 26, 27, 28, 29, 30],\n",
       "                         'p': [1, 2], 'weights': ['uniform', 'distance']},\n",
       "             scoring='accuracy')"
      ]
     },
     "execution_count": 26,
     "metadata": {},
     "output_type": "execute_result"
    }
   ],
   "source": [
    "from sklearn.model_selection import GridSearchCV\n",
    "\n",
    "k_range = list(range(1,31))\n",
    "weight_options = ['uniform','distance']\n",
    "pow = [1,2]\n",
    "param_grid = dict(n_neighbors = k_range,\n",
    "                  weights = weight_options,\n",
    "                  p = pow)\n",
    "knn_gs = KNeighborsClassifier()\n",
    "grid_k = GridSearchCV(knn_gs,\n",
    "                      param_grid,\n",
    "                      cv=10,scoring='accuracy')\n",
    "grid_k.fit(X_train, y_train)"
   ]
  },
  {
   "cell_type": "code",
   "execution_count": 27,
   "id": "bc1b8b1c",
   "metadata": {
    "colab": {
     "base_uri": "https://localhost:8080/"
    },
    "id": "bc1b8b1c",
    "outputId": "6435824c-e6ea-4ddd-a15c-610a1abe9059"
   },
   "outputs": [
    {
     "name": "stdout",
     "output_type": "stream",
     "text": [
      "Tuned Hyperparameters : {'n_neighbors': 26, 'p': 1, 'weights': 'distance'}\n",
      "Accuracy : 0.6447664513566621\n"
     ]
    }
   ],
   "source": [
    "print(\"Tuned Hyperparameters :\", grid_k.best_params_)\n",
    "print(\"Accuracy :\",grid_k.best_score_)"
   ]
  },
  {
   "cell_type": "code",
   "execution_count": 28,
   "id": "TdebT2MAT87o",
   "metadata": {
    "colab": {
     "base_uri": "https://localhost:8080/"
    },
    "id": "TdebT2MAT87o",
    "outputId": "ec215157-b09d-4c15-db0f-709dd7dbfdeb"
   },
   "outputs": [
    {
     "name": "stdout",
     "output_type": "stream",
     "text": [
      "KNeighborsClassifier(n_neighbors=26, p=1, weights='distance')\n"
     ]
    }
   ],
   "source": [
    "Class_Tree = grid_k.best_estimator_\n",
    "print(Class_Tree)"
   ]
  },
  {
   "cell_type": "code",
   "execution_count": 29,
   "id": "680bc853",
   "metadata": {
    "id": "680bc853"
   },
   "outputs": [],
   "source": [
    "knn1 = KNeighborsClassifier(n_neighbors= 16, p = 1, weights='distance')"
   ]
  },
  {
   "cell_type": "code",
   "execution_count": 30,
   "id": "e9ff3b9d",
   "metadata": {
    "colab": {
     "base_uri": "https://localhost:8080/",
     "height": 74
    },
    "id": "e9ff3b9d",
    "outputId": "44f6de76-a44f-46d9-ed12-76eea23b80d1"
   },
   "outputs": [
    {
     "data": {
      "text/plain": [
       "KNeighborsClassifier(n_neighbors=16, p=1, weights='distance')"
      ]
     },
     "execution_count": 30,
     "metadata": {},
     "output_type": "execute_result"
    }
   ],
   "source": [
    "knn1.fit(X_train,y_train)"
   ]
  },
  {
   "cell_type": "code",
   "execution_count": 31,
   "id": "30e972a1",
   "metadata": {
    "id": "30e972a1"
   },
   "outputs": [],
   "source": [
    "yhat = knn1.predict(X_test)"
   ]
  },
  {
   "cell_type": "code",
   "execution_count": 32,
   "id": "5e8578eb",
   "metadata": {
    "colab": {
     "base_uri": "https://localhost:8080/"
    },
    "id": "5e8578eb",
    "outputId": "c570fe35-e1a6-431f-8a23-db46038bcade"
   },
   "outputs": [
    {
     "name": "stdout",
     "output_type": "stream",
     "text": [
      "The jaccard_score of the KNN for k =  26 classifier on train data is 0.47921134664653925\n",
      "The F1-score of the KNN for k =  26  classifier on train data is 0.6355758941631992\n",
      "The Accuracy_score of the KNN for k =  26  classifier on train data is 0.6364315042926465\n"
     ]
    }
   ],
   "source": [
    "from sklearn.metrics import jaccard_score\n",
    "from sklearn.metrics import f1_score\n",
    "from sklearn.metrics import log_loss\n",
    "from sklearn.metrics import accuracy_score\n",
    "\n",
    "a1 = jaccard_score(y_test, yhat, pos_label=1, average='macro')\n",
    "b1 = f1_score(y_test, yhat, average='macro')\n",
    "c1 = accuracy_score(y_test, yhat)\n",
    "\n",
    "print('The jaccard_score of the KNN for k = ',best_k,'classifier on train data is',a1)\n",
    "print('The F1-score of the KNN for k = ',best_k,' classifier on train data is',b1)\n",
    "print('The Accuracy_score of the KNN for k = ',best_k,' classifier on train data is',c1)"
   ]
  },
  {
   "cell_type": "markdown",
   "id": "Z7NWX_J61IFt",
   "metadata": {
    "id": "Z7NWX_J61IFt"
   },
   "source": [
    "# Model 2 : Decision Tree"
   ]
  },
  {
   "cell_type": "markdown",
   "id": "Pqq7RYZQ1-1E",
   "metadata": {
    "id": "Pqq7RYZQ1-1E"
   },
   "source": [
    "#### Parameter Tuning For Decision tree to find best tree"
   ]
  },
  {
   "cell_type": "code",
   "execution_count": 33,
   "id": "911f210d",
   "metadata": {
    "colab": {
     "base_uri": "https://localhost:8080/",
     "height": 134
    },
    "id": "911f210d",
    "outputId": "c23dd0bc-a858-4497-fed9-cee7ad4836f6"
   },
   "outputs": [
    {
     "name": "stdout",
     "output_type": "stream",
     "text": [
      "Fitting 5 folds for each of 90 candidates, totalling 450 fits\n"
     ]
    },
    {
     "data": {
      "text/plain": [
       "GridSearchCV(cv=5, estimator=DecisionTreeClassifier(random_state=1024),\n",
       "             param_grid={'ccp_alpha': [0.1, 0.01, 0.001],\n",
       "                         'criterion': ['gini', 'entropy'],\n",
       "                         'max_depth': [5, 6, 7, 8, 9],\n",
       "                         'max_features': ['auto', 'sqrt', 'log2']},\n",
       "             verbose=True)"
      ]
     },
     "execution_count": 33,
     "metadata": {},
     "output_type": "execute_result"
    }
   ],
   "source": [
    "from sklearn.model_selection import GridSearchCV\n",
    "from sklearn.tree import DecisionTreeClassifier\n",
    "param_grid = {'criterion' :['gini', 'entropy'],\n",
    "              'max_features': ['auto', 'sqrt', 'log2'],\n",
    "              'ccp_alpha': [0.1, .01, .001],\n",
    "              'max_depth' : [5, 6, 7, 8, 9],\n",
    "              }\n",
    "tree_clas = DecisionTreeClassifier(random_state=1024)\n",
    "grid_search = GridSearchCV(estimator=tree_clas,\n",
    "                           param_grid=param_grid,\n",
    "                           cv=5,\n",
    "                           verbose=True)\n",
    "grid_search.fit(X_train, y_train)"
   ]
  },
  {
   "cell_type": "markdown",
   "id": "HwbWjK4Y2RX4",
   "metadata": {
    "id": "HwbWjK4Y2RX4"
   },
   "source": [
    "Finding the Best Parameters"
   ]
  },
  {
   "cell_type": "code",
   "execution_count": 34,
   "id": "f8ece850",
   "metadata": {
    "colab": {
     "base_uri": "https://localhost:8080/"
    },
    "id": "f8ece850",
    "outputId": "371f26b9-19ec-4aa6-c420-59f6530c58a1"
   },
   "outputs": [
    {
     "name": "stdout",
     "output_type": "stream",
     "text": [
      "Tuned Hyperparameters : {'ccp_alpha': 0.001, 'criterion': 'gini', 'max_depth': 9, 'max_features': 'auto'}\n",
      "Accuracy : 0.6073356329621598\n"
     ]
    }
   ],
   "source": [
    "print(\"Tuned Hyperparameters :\", grid_search.best_params_)\n",
    "print(\"Accuracy :\",grid_search.best_score_)"
   ]
  },
  {
   "cell_type": "code",
   "execution_count": 35,
   "id": "7Dvnvc1M2Q03",
   "metadata": {
    "colab": {
     "base_uri": "https://localhost:8080/"
    },
    "id": "7Dvnvc1M2Q03",
    "outputId": "27e94726-9b4c-42f7-e55b-af8a403a36e1"
   },
   "outputs": [
    {
     "name": "stdout",
     "output_type": "stream",
     "text": [
      "DecisionTreeClassifier(ccp_alpha=0.001, max_depth=9, max_features='auto',\n",
      "                       random_state=1024)\n"
     ]
    }
   ],
   "source": [
    "Class_Tree = grid_search.best_estimator_\n",
    "print(Class_Tree)"
   ]
  },
  {
   "cell_type": "markdown",
   "id": "7zJlhkU32q8I",
   "metadata": {
    "id": "7zJlhkU32q8I"
   },
   "source": [
    "#### Train the best model using Training Data\n"
   ]
  },
  {
   "cell_type": "code",
   "execution_count": 36,
   "id": "d4b85932",
   "metadata": {
    "colab": {
     "base_uri": "https://localhost:8080/",
     "height": 91
    },
    "id": "d4b85932",
    "outputId": "e9b7a9d2-7d0d-46a6-cebd-05ff13da5104"
   },
   "outputs": [
    {
     "data": {
      "text/plain": [
       "DecisionTreeClassifier(ccp_alpha=0.001, max_depth=9, max_features='auto',\n",
       "                       random_state=1024)"
      ]
     },
     "execution_count": 36,
     "metadata": {},
     "output_type": "execute_result"
    }
   ],
   "source": [
    "Class_Tree.fit(X_train,y_train)"
   ]
  },
  {
   "cell_type": "code",
   "execution_count": 37,
   "id": "ee872983",
   "metadata": {
    "colab": {
     "base_uri": "https://localhost:8080/",
     "height": 91
    },
    "id": "ee872983",
    "outputId": "585be199-d5c3-4776-fbf6-7e21d1cd041e"
   },
   "outputs": [
    {
     "data": {
      "text/plain": [
       "DecisionTreeClassifier(ccp_alpha=0.001, max_depth=9, max_features='auto',\n",
       "                       random_state=1024)"
      ]
     },
     "execution_count": 37,
     "metadata": {},
     "output_type": "execute_result"
    }
   ],
   "source": [
    "Class_Tree.fit(X_train,y_train)"
   ]
  },
  {
   "cell_type": "code",
   "execution_count": 38,
   "id": "5ffbfa44",
   "metadata": {
    "id": "5ffbfa44"
   },
   "outputs": [],
   "source": [
    "predTree = Class_Tree.predict(X_test)"
   ]
  },
  {
   "cell_type": "code",
   "execution_count": 39,
   "id": "ac34fd32",
   "metadata": {
    "colab": {
     "base_uri": "https://localhost:8080/"
    },
    "id": "ac34fd32",
    "outputId": "a1764a18-a0fc-46c8-fc2b-4426804ed68d"
   },
   "outputs": [
    {
     "name": "stdout",
     "output_type": "stream",
     "text": [
      "The accuraccy of (Class_ tree) DecisionTrees's 0.58 \n",
      "The jaccard_score of the DecisionTrees classifier is 0.41\n",
      "The F1-score of the DecisionTrees classifier is 0.58\n"
     ]
    }
   ],
   "source": [
    "a2 = jaccard_score(y_test, predTree,pos_label=1, average='macro')\n",
    "b2 = f1_score(y_test, predTree, average='weighted')\n",
    "c2 = accuracy_score(y_test, predTree)\n",
    "print(\"The accuraccy of (Class_ tree) DecisionTrees's {:.2f} \".\n",
    "format(c2))\n",
    "print('The jaccard_score of the DecisionTrees classifier is {:.2f}'.\n",
    "format(a2))\n",
    "print('The F1-score of the DecisionTrees classifier is {:.2f}'.\n",
    "format(b2))"
   ]
  },
  {
   "cell_type": "markdown",
   "id": "uPSJqksn3UIe",
   "metadata": {
    "id": "uPSJqksn3UIe"
   },
   "source": [
    "# Model 3 : Support Vector Machine"
   ]
  },
  {
   "cell_type": "markdown",
   "id": "3mAn1NuK3ayt",
   "metadata": {
    "id": "3mAn1NuK3ayt"
   },
   "source": [
    "#### Parameter Tunning For SVM using GridSerachCV"
   ]
  },
  {
   "cell_type": "code",
   "execution_count": 40,
   "id": "db44afb2",
   "metadata": {
    "colab": {
     "base_uri": "https://localhost:8080/",
     "height": 1000
    },
    "id": "db44afb2",
    "outputId": "b968dd2d-d2b7-4419-f25c-5d29a56769d3",
    "scrolled": false
   },
   "outputs": [
    {
     "name": "stdout",
     "output_type": "stream",
     "text": [
      "Fitting 5 folds for each of 32 candidates, totalling 160 fits\n",
      "[CV] END .........................C=0.1, gamma=1, kernel=rbf; total time=   7.9s\n",
      "[CV] END .........................C=0.1, gamma=1, kernel=rbf; total time=   7.2s\n",
      "[CV] END .........................C=0.1, gamma=1, kernel=rbf; total time=   7.6s\n",
      "[CV] END .........................C=0.1, gamma=1, kernel=rbf; total time=   7.3s\n",
      "[CV] END .........................C=0.1, gamma=1, kernel=rbf; total time=   7.2s\n",
      "[CV] END .....................C=0.1, gamma=1, kernel=sigmoid; total time=   5.8s\n",
      "[CV] END .....................C=0.1, gamma=1, kernel=sigmoid; total time=   6.5s\n",
      "[CV] END .....................C=0.1, gamma=1, kernel=sigmoid; total time=   6.5s\n",
      "[CV] END .....................C=0.1, gamma=1, kernel=sigmoid; total time=   6.6s\n",
      "[CV] END .....................C=0.1, gamma=1, kernel=sigmoid; total time=   7.7s\n",
      "[CV] END .......................C=0.1, gamma=0.1, kernel=rbf; total time=   4.5s\n",
      "[CV] END .......................C=0.1, gamma=0.1, kernel=rbf; total time=   4.8s\n",
      "[CV] END .......................C=0.1, gamma=0.1, kernel=rbf; total time=   4.9s\n",
      "[CV] END .......................C=0.1, gamma=0.1, kernel=rbf; total time=   4.7s\n",
      "[CV] END .......................C=0.1, gamma=0.1, kernel=rbf; total time=   4.9s\n",
      "[CV] END ...................C=0.1, gamma=0.1, kernel=sigmoid; total time=   3.9s\n",
      "[CV] END ...................C=0.1, gamma=0.1, kernel=sigmoid; total time=   4.0s\n",
      "[CV] END ...................C=0.1, gamma=0.1, kernel=sigmoid; total time=   4.0s\n",
      "[CV] END ...................C=0.1, gamma=0.1, kernel=sigmoid; total time=   3.9s\n",
      "[CV] END ...................C=0.1, gamma=0.1, kernel=sigmoid; total time=   4.1s\n",
      "[CV] END ......................C=0.1, gamma=0.01, kernel=rbf; total time=   5.5s\n",
      "[CV] END ......................C=0.1, gamma=0.01, kernel=rbf; total time=   5.5s\n",
      "[CV] END ......................C=0.1, gamma=0.01, kernel=rbf; total time=   5.6s\n",
      "[CV] END ......................C=0.1, gamma=0.01, kernel=rbf; total time=   5.5s\n",
      "[CV] END ......................C=0.1, gamma=0.01, kernel=rbf; total time=   5.5s\n",
      "[CV] END ..................C=0.1, gamma=0.01, kernel=sigmoid; total time=   5.3s\n",
      "[CV] END ..................C=0.1, gamma=0.01, kernel=sigmoid; total time=   5.1s\n",
      "[CV] END ..................C=0.1, gamma=0.01, kernel=sigmoid; total time=   5.0s\n",
      "[CV] END ..................C=0.1, gamma=0.01, kernel=sigmoid; total time=   5.1s\n",
      "[CV] END ..................C=0.1, gamma=0.01, kernel=sigmoid; total time=   4.9s\n",
      "[CV] END .....................C=0.1, gamma=0.001, kernel=rbf; total time=   7.4s\n",
      "[CV] END .....................C=0.1, gamma=0.001, kernel=rbf; total time=   6.9s\n",
      "[CV] END .....................C=0.1, gamma=0.001, kernel=rbf; total time=   7.0s\n",
      "[CV] END .....................C=0.1, gamma=0.001, kernel=rbf; total time=   7.3s\n",
      "[CV] END .....................C=0.1, gamma=0.001, kernel=rbf; total time=   7.2s\n",
      "[CV] END .................C=0.1, gamma=0.001, kernel=sigmoid; total time=   6.8s\n",
      "[CV] END .................C=0.1, gamma=0.001, kernel=sigmoid; total time=   7.0s\n",
      "[CV] END .................C=0.1, gamma=0.001, kernel=sigmoid; total time=   6.8s\n",
      "[CV] END .................C=0.1, gamma=0.001, kernel=sigmoid; total time=   6.7s\n",
      "[CV] END .................C=0.1, gamma=0.001, kernel=sigmoid; total time=   6.9s\n",
      "[CV] END ...........................C=1, gamma=1, kernel=rbf; total time=   7.3s\n",
      "[CV] END ...........................C=1, gamma=1, kernel=rbf; total time=   7.2s\n",
      "[CV] END ...........................C=1, gamma=1, kernel=rbf; total time=   7.1s\n",
      "[CV] END ...........................C=1, gamma=1, kernel=rbf; total time=   7.6s\n",
      "[CV] END ...........................C=1, gamma=1, kernel=rbf; total time=   7.7s\n",
      "[CV] END .......................C=1, gamma=1, kernel=sigmoid; total time=   5.1s\n",
      "[CV] END .......................C=1, gamma=1, kernel=sigmoid; total time=   6.3s\n",
      "[CV] END .......................C=1, gamma=1, kernel=sigmoid; total time=   5.5s\n",
      "[CV] END .......................C=1, gamma=1, kernel=sigmoid; total time=   5.8s\n",
      "[CV] END .......................C=1, gamma=1, kernel=sigmoid; total time=   6.9s\n",
      "[CV] END .........................C=1, gamma=0.1, kernel=rbf; total time=   3.8s\n",
      "[CV] END .........................C=1, gamma=0.1, kernel=rbf; total time=   4.0s\n",
      "[CV] END .........................C=1, gamma=0.1, kernel=rbf; total time=   4.1s\n",
      "[CV] END .........................C=1, gamma=0.1, kernel=rbf; total time=   4.0s\n",
      "[CV] END .........................C=1, gamma=0.1, kernel=rbf; total time=   4.2s\n",
      "[CV] END .....................C=1, gamma=0.1, kernel=sigmoid; total time=   3.9s\n",
      "[CV] END .....................C=1, gamma=0.1, kernel=sigmoid; total time=   3.8s\n",
      "[CV] END .....................C=1, gamma=0.1, kernel=sigmoid; total time=   3.3s\n",
      "[CV] END .....................C=1, gamma=0.1, kernel=sigmoid; total time=   3.2s\n",
      "[CV] END .....................C=1, gamma=0.1, kernel=sigmoid; total time=   3.0s\n",
      "[CV] END ........................C=1, gamma=0.01, kernel=rbf; total time=   4.2s\n",
      "[CV] END ........................C=1, gamma=0.01, kernel=rbf; total time=   4.5s\n",
      "[CV] END ........................C=1, gamma=0.01, kernel=rbf; total time=   4.7s\n",
      "[CV] END ........................C=1, gamma=0.01, kernel=rbf; total time=   4.2s\n",
      "[CV] END ........................C=1, gamma=0.01, kernel=rbf; total time=   4.8s\n",
      "[CV] END ....................C=1, gamma=0.01, kernel=sigmoid; total time=   4.0s\n",
      "[CV] END ....................C=1, gamma=0.01, kernel=sigmoid; total time=   3.8s\n",
      "[CV] END ....................C=1, gamma=0.01, kernel=sigmoid; total time=   3.8s\n",
      "[CV] END ....................C=1, gamma=0.01, kernel=sigmoid; total time=   3.8s\n",
      "[CV] END ....................C=1, gamma=0.01, kernel=sigmoid; total time=   3.9s\n",
      "[CV] END .......................C=1, gamma=0.001, kernel=rbf; total time=   5.6s\n",
      "[CV] END .......................C=1, gamma=0.001, kernel=rbf; total time=   5.4s\n",
      "[CV] END .......................C=1, gamma=0.001, kernel=rbf; total time=   5.1s\n",
      "[CV] END .......................C=1, gamma=0.001, kernel=rbf; total time=   5.2s\n",
      "[CV] END .......................C=1, gamma=0.001, kernel=rbf; total time=   5.2s\n",
      "[CV] END ...................C=1, gamma=0.001, kernel=sigmoid; total time=   5.0s\n",
      "[CV] END ...................C=1, gamma=0.001, kernel=sigmoid; total time=   5.2s\n",
      "[CV] END ...................C=1, gamma=0.001, kernel=sigmoid; total time=   5.0s\n",
      "[CV] END ...................C=1, gamma=0.001, kernel=sigmoid; total time=   5.0s\n",
      "[CV] END ...................C=1, gamma=0.001, kernel=sigmoid; total time=   5.2s\n",
      "[CV] END ..........................C=10, gamma=1, kernel=rbf; total time=   7.6s\n",
      "[CV] END ..........................C=10, gamma=1, kernel=rbf; total time=   7.6s\n",
      "[CV] END ..........................C=10, gamma=1, kernel=rbf; total time=   7.9s\n",
      "[CV] END ..........................C=10, gamma=1, kernel=rbf; total time=   8.1s\n",
      "[CV] END ..........................C=10, gamma=1, kernel=rbf; total time=   8.1s\n",
      "[CV] END ......................C=10, gamma=1, kernel=sigmoid; total time=   4.9s\n",
      "[CV] END ......................C=10, gamma=1, kernel=sigmoid; total time=   6.4s\n",
      "[CV] END ......................C=10, gamma=1, kernel=sigmoid; total time=   5.3s\n",
      "[CV] END ......................C=10, gamma=1, kernel=sigmoid; total time=   5.9s\n",
      "[CV] END ......................C=10, gamma=1, kernel=sigmoid; total time=   6.2s\n",
      "[CV] END ........................C=10, gamma=0.1, kernel=rbf; total time=   4.0s\n",
      "[CV] END ........................C=10, gamma=0.1, kernel=rbf; total time=   4.1s\n",
      "[CV] END ........................C=10, gamma=0.1, kernel=rbf; total time=   3.9s\n",
      "[CV] END ........................C=10, gamma=0.1, kernel=rbf; total time=   4.0s\n",
      "[CV] END ........................C=10, gamma=0.1, kernel=rbf; total time=   3.9s\n",
      "[CV] END ....................C=10, gamma=0.1, kernel=sigmoid; total time=   3.0s\n",
      "[CV] END ....................C=10, gamma=0.1, kernel=sigmoid; total time=   3.4s\n",
      "[CV] END ....................C=10, gamma=0.1, kernel=sigmoid; total time=   3.1s\n",
      "[CV] END ....................C=10, gamma=0.1, kernel=sigmoid; total time=   3.0s\n",
      "[CV] END ....................C=10, gamma=0.1, kernel=sigmoid; total time=   3.1s\n",
      "[CV] END .......................C=10, gamma=0.01, kernel=rbf; total time=   4.4s\n"
     ]
    },
    {
     "name": "stdout",
     "output_type": "stream",
     "text": [
      "[CV] END .......................C=10, gamma=0.01, kernel=rbf; total time=   4.3s\n",
      "[CV] END .......................C=10, gamma=0.01, kernel=rbf; total time=   4.0s\n",
      "[CV] END .......................C=10, gamma=0.01, kernel=rbf; total time=   4.0s\n",
      "[CV] END .......................C=10, gamma=0.01, kernel=rbf; total time=   4.0s\n",
      "[CV] END ...................C=10, gamma=0.01, kernel=sigmoid; total time=   3.6s\n",
      "[CV] END ...................C=10, gamma=0.01, kernel=sigmoid; total time=   3.6s\n",
      "[CV] END ...................C=10, gamma=0.01, kernel=sigmoid; total time=   3.5s\n",
      "[CV] END ...................C=10, gamma=0.01, kernel=sigmoid; total time=   3.7s\n",
      "[CV] END ...................C=10, gamma=0.01, kernel=sigmoid; total time=   3.8s\n",
      "[CV] END ......................C=10, gamma=0.001, kernel=rbf; total time=   4.4s\n",
      "[CV] END ......................C=10, gamma=0.001, kernel=rbf; total time=   4.7s\n",
      "[CV] END ......................C=10, gamma=0.001, kernel=rbf; total time=   4.4s\n",
      "[CV] END ......................C=10, gamma=0.001, kernel=rbf; total time=   4.2s\n",
      "[CV] END ......................C=10, gamma=0.001, kernel=rbf; total time=   4.2s\n",
      "[CV] END ..................C=10, gamma=0.001, kernel=sigmoid; total time=   3.6s\n",
      "[CV] END ..................C=10, gamma=0.001, kernel=sigmoid; total time=   3.6s\n",
      "[CV] END ..................C=10, gamma=0.001, kernel=sigmoid; total time=   3.6s\n",
      "[CV] END ..................C=10, gamma=0.001, kernel=sigmoid; total time=   3.7s\n",
      "[CV] END ..................C=10, gamma=0.001, kernel=sigmoid; total time=   3.8s\n",
      "[CV] END .........................C=100, gamma=1, kernel=rbf; total time=   7.8s\n",
      "[CV] END .........................C=100, gamma=1, kernel=rbf; total time=   7.6s\n",
      "[CV] END .........................C=100, gamma=1, kernel=rbf; total time=   7.8s\n",
      "[CV] END .........................C=100, gamma=1, kernel=rbf; total time=   7.5s\n",
      "[CV] END .........................C=100, gamma=1, kernel=rbf; total time=   7.6s\n",
      "[CV] END .....................C=100, gamma=1, kernel=sigmoid; total time=   4.8s\n",
      "[CV] END .....................C=100, gamma=1, kernel=sigmoid; total time=   6.0s\n",
      "[CV] END .....................C=100, gamma=1, kernel=sigmoid; total time=   5.4s\n",
      "[CV] END .....................C=100, gamma=1, kernel=sigmoid; total time=   6.5s\n",
      "[CV] END .....................C=100, gamma=1, kernel=sigmoid; total time=   5.9s\n",
      "[CV] END .......................C=100, gamma=0.1, kernel=rbf; total time=   6.9s\n",
      "[CV] END .......................C=100, gamma=0.1, kernel=rbf; total time=   6.7s\n",
      "[CV] END .......................C=100, gamma=0.1, kernel=rbf; total time=   6.8s\n",
      "[CV] END .......................C=100, gamma=0.1, kernel=rbf; total time=   6.8s\n",
      "[CV] END .......................C=100, gamma=0.1, kernel=rbf; total time=   6.6s\n",
      "[CV] END ...................C=100, gamma=0.1, kernel=sigmoid; total time=   3.0s\n",
      "[CV] END ...................C=100, gamma=0.1, kernel=sigmoid; total time=   3.0s\n",
      "[CV] END ...................C=100, gamma=0.1, kernel=sigmoid; total time=   3.2s\n",
      "[CV] END ...................C=100, gamma=0.1, kernel=sigmoid; total time=   3.2s\n",
      "[CV] END ...................C=100, gamma=0.1, kernel=sigmoid; total time=   3.3s\n",
      "[CV] END ......................C=100, gamma=0.01, kernel=rbf; total time=   4.5s\n",
      "[CV] END ......................C=100, gamma=0.01, kernel=rbf; total time=   4.4s\n",
      "[CV] END ......................C=100, gamma=0.01, kernel=rbf; total time=   4.4s\n",
      "[CV] END ......................C=100, gamma=0.01, kernel=rbf; total time=   4.4s\n",
      "[CV] END ......................C=100, gamma=0.01, kernel=rbf; total time=   4.3s\n",
      "[CV] END ..................C=100, gamma=0.01, kernel=sigmoid; total time=   3.4s\n",
      "[CV] END ..................C=100, gamma=0.01, kernel=sigmoid; total time=   3.5s\n",
      "[CV] END ..................C=100, gamma=0.01, kernel=sigmoid; total time=   3.8s\n",
      "[CV] END ..................C=100, gamma=0.01, kernel=sigmoid; total time=   3.3s\n",
      "[CV] END ..................C=100, gamma=0.01, kernel=sigmoid; total time=   3.6s\n",
      "[CV] END .....................C=100, gamma=0.001, kernel=rbf; total time=   4.1s\n",
      "[CV] END .....................C=100, gamma=0.001, kernel=rbf; total time=   4.1s\n",
      "[CV] END .....................C=100, gamma=0.001, kernel=rbf; total time=   4.0s\n",
      "[CV] END .....................C=100, gamma=0.001, kernel=rbf; total time=   4.1s\n",
      "[CV] END .....................C=100, gamma=0.001, kernel=rbf; total time=   4.2s\n",
      "[CV] END .................C=100, gamma=0.001, kernel=sigmoid; total time=   3.4s\n",
      "[CV] END .................C=100, gamma=0.001, kernel=sigmoid; total time=   3.5s\n",
      "[CV] END .................C=100, gamma=0.001, kernel=sigmoid; total time=   3.3s\n",
      "[CV] END .................C=100, gamma=0.001, kernel=sigmoid; total time=   3.4s\n",
      "[CV] END .................C=100, gamma=0.001, kernel=sigmoid; total time=   3.3s\n"
     ]
    },
    {
     "data": {
      "text/plain": [
       "GridSearchCV(estimator=SVC(),\n",
       "             param_grid={'C': [0.1, 1, 10, 100], 'gamma': [1, 0.1, 0.01, 0.001],\n",
       "                         'kernel': ['rbf', 'sigmoid']},\n",
       "             verbose=2)"
      ]
     },
     "execution_count": 40,
     "metadata": {},
     "output_type": "execute_result"
    }
   ],
   "source": [
    "from sklearn.svm import SVC\n",
    "param_grid = {'C': [0.1,1, 10, 100],\n",
    "              'gamma': [1,0.1,0.01,0.001],\n",
    "              'kernel': ['rbf', 'sigmoid']}\n",
    "grid_s = GridSearchCV(SVC(),param_grid,refit=True,verbose=2)\n",
    "grid_s.fit(X_train,y_train)"
   ]
  },
  {
   "cell_type": "code",
   "execution_count": 41,
   "id": "19f4766b",
   "metadata": {
    "colab": {
     "base_uri": "https://localhost:8080/"
    },
    "id": "19f4766b",
    "outputId": "b1bf6e01-5b85-45ae-ceb1-da25145269c0"
   },
   "outputs": [
    {
     "name": "stdout",
     "output_type": "stream",
     "text": [
      "Tuned Hyperparameters : {'C': 10, 'gamma': 0.1, 'kernel': 'rbf'}\n",
      "Accuracy : 0.7054328404250174\n"
     ]
    }
   ],
   "source": [
    "print(\"Tuned Hyperparameters :\", grid_s.best_params_)\n",
    "print(\"Accuracy :\",grid_s.best_score_)"
   ]
  },
  {
   "cell_type": "code",
   "execution_count": 42,
   "id": "2f8b951c",
   "metadata": {
    "colab": {
     "base_uri": "https://localhost:8080/"
    },
    "id": "2f8b951c",
    "outputId": "35588061-f6a9-4b64-de58-45293286bfda"
   },
   "outputs": [
    {
     "name": "stdout",
     "output_type": "stream",
     "text": [
      "SVC(C=0.1, gamma=1, kernel='sigmoid', probability=True)\n"
     ]
    }
   ],
   "source": [
    "svm = SVC(probability=True,C=0.1, gamma=1, kernel='sigmoid')\n",
    "print(svm)"
   ]
  },
  {
   "cell_type": "code",
   "execution_count": 43,
   "id": "d4fbb766",
   "metadata": {
    "colab": {
     "base_uri": "https://localhost:8080/",
     "height": 74
    },
    "id": "d4fbb766",
    "outputId": "72182378-a018-48fd-fbb4-241a9dc2c38d"
   },
   "outputs": [
    {
     "data": {
      "text/plain": [
       "SVC(C=0.1, gamma=1, kernel='sigmoid', probability=True)"
      ]
     },
     "execution_count": 43,
     "metadata": {},
     "output_type": "execute_result"
    }
   ],
   "source": [
    "svm.fit(X_train,y_train)"
   ]
  },
  {
   "cell_type": "code",
   "execution_count": 44,
   "id": "24eedee9",
   "metadata": {
    "id": "24eedee9"
   },
   "outputs": [],
   "source": [
    "yhat_s = svm.predict(X_test)"
   ]
  },
  {
   "cell_type": "code",
   "execution_count": 45,
   "id": "bc28daaa",
   "metadata": {
    "id": "bc28daaa"
   },
   "outputs": [
    {
     "name": "stdout",
     "output_type": "stream",
     "text": [
      "The jaccard_score of the SVM classifier on train data is 0.14\n",
      "The F1-score of the SVM classifier on train data is 0.25\n",
      "The accuracy-score of the SVM classifier on train data is 0.27\n"
     ]
    }
   ],
   "source": [
    "a3 = jaccard_score(y_test, yhat_s,pos_label=1,average='macro')\n",
    "b3 = f1_score(y_test, yhat_s, average='weighted')\n",
    "c3 = accuracy_score(y_test, yhat_s)\n",
    "print('The jaccard_score of the SVM classifier on train data is {:.2f}'.\n",
    "format(a3))\n",
    "print('The F1-score of the SVM classifier on train data is {:.2f}'.\n",
    "format(b3))\n",
    "print('The accuracy-score of the SVM classifier on train data is {:.2f}'.\n",
    "format(c3))"
   ]
  },
  {
   "cell_type": "markdown",
   "id": "CDgJXMKL4oE-",
   "metadata": {
    "id": "CDgJXMKL4oE-"
   },
   "source": [
    "# Model 4 : Logistic Regression"
   ]
  },
  {
   "cell_type": "markdown",
   "id": "dgsJmotn41sA",
   "metadata": {
    "id": "dgsJmotn41sA"
   },
   "source": [
    "#### Parameter Tunning using Grid Serch CV"
   ]
  },
  {
   "cell_type": "code",
   "execution_count": 46,
   "id": "59126172",
   "metadata": {
    "id": "59126172"
   },
   "outputs": [],
   "source": [
    "from sklearn.linear_model import LogisticRegression\n",
    "parameters = {\n",
    "'penalty' : ['l1','l2'],\n",
    "'C' : np.logspace(-3,3,7),\n",
    "'solver' : ['newton-cg', 'lbfgs', 'liblinear'],\n",
    "}\n",
    "logreg = LogisticRegression()"
   ]
  },
  {
   "cell_type": "code",
   "execution_count": 47,
   "id": "3d42f201",
   "metadata": {
    "colab": {
     "base_uri": "https://localhost:8080/",
     "height": 778
    },
    "id": "3d42f201",
    "outputId": "1e9d052f-ef0a-4df8-d492-e324b6fff451"
   },
   "outputs": [
    {
     "name": "stderr",
     "output_type": "stream",
     "text": [
      "C:\\Users\\hplap\\anaconda3\\lib\\site-packages\\sklearn\\model_selection\\_validation.py:372: FitFailedWarning: \n",
      "140 fits failed out of a total of 420.\n",
      "The score on these train-test partitions for these parameters will be set to nan.\n",
      "If these failures are not expected, you can try to debug them by setting error_score='raise'.\n",
      "\n",
      "Below are more details about the failures:\n",
      "--------------------------------------------------------------------------------\n",
      "70 fits failed with the following error:\n",
      "Traceback (most recent call last):\n",
      "  File \"C:\\Users\\hplap\\anaconda3\\lib\\site-packages\\sklearn\\model_selection\\_validation.py\", line 680, in _fit_and_score\n",
      "    estimator.fit(X_train, y_train, **fit_params)\n",
      "  File \"C:\\Users\\hplap\\anaconda3\\lib\\site-packages\\sklearn\\linear_model\\_logistic.py\", line 1461, in fit\n",
      "    solver = _check_solver(self.solver, self.penalty, self.dual)\n",
      "  File \"C:\\Users\\hplap\\anaconda3\\lib\\site-packages\\sklearn\\linear_model\\_logistic.py\", line 447, in _check_solver\n",
      "    raise ValueError(\n",
      "ValueError: Solver newton-cg supports only 'l2' or 'none' penalties, got l1 penalty.\n",
      "\n",
      "--------------------------------------------------------------------------------\n",
      "70 fits failed with the following error:\n",
      "Traceback (most recent call last):\n",
      "  File \"C:\\Users\\hplap\\anaconda3\\lib\\site-packages\\sklearn\\model_selection\\_validation.py\", line 680, in _fit_and_score\n",
      "    estimator.fit(X_train, y_train, **fit_params)\n",
      "  File \"C:\\Users\\hplap\\anaconda3\\lib\\site-packages\\sklearn\\linear_model\\_logistic.py\", line 1461, in fit\n",
      "    solver = _check_solver(self.solver, self.penalty, self.dual)\n",
      "  File \"C:\\Users\\hplap\\anaconda3\\lib\\site-packages\\sklearn\\linear_model\\_logistic.py\", line 447, in _check_solver\n",
      "    raise ValueError(\n",
      "ValueError: Solver lbfgs supports only 'l2' or 'none' penalties, got l1 penalty.\n",
      "\n",
      "  warnings.warn(some_fits_failed_message, FitFailedWarning)\n",
      "C:\\Users\\hplap\\anaconda3\\lib\\site-packages\\sklearn\\model_selection\\_search.py:969: UserWarning: One or more of the test scores are non-finite: [       nan        nan 0.48609378 0.57345224 0.57335887 0.52557311\n",
      "        nan        nan 0.57205412 0.60789557 0.60789557 0.57728148\n",
      "        nan        nan 0.59062914 0.6150818  0.6150818  0.58997546\n",
      "        nan        nan 0.59081579 0.61545633 0.61554962 0.58997572\n",
      "        nan        nan 0.59062914 0.61592319 0.61592319 0.59062914\n",
      "        nan        nan 0.59062914 0.61592319 0.61582981 0.59062914\n",
      "        nan        nan 0.59062914 0.61582981 0.61582981 0.59062914]\n",
      "  warnings.warn(\n"
     ]
    },
    {
     "data": {
      "text/plain": [
       "GridSearchCV(cv=10, estimator=LogisticRegression(),\n",
       "             param_grid={'C': array([1.e-03, 1.e-02, 1.e-01, 1.e+00, 1.e+01, 1.e+02, 1.e+03]),\n",
       "                         'penalty': ['l1', 'l2'],\n",
       "                         'solver': ['newton-cg', 'lbfgs', 'liblinear']},\n",
       "             scoring='accuracy')"
      ]
     },
     "execution_count": 47,
     "metadata": {},
     "output_type": "execute_result"
    }
   ],
   "source": [
    "clf = GridSearchCV(logreg,\n",
    "                   param_grid = parameters,\n",
    "                   scoring='accuracy',\n",
    "                   cv=10)\n",
    "clf.fit(X_train,y_train)"
   ]
  },
  {
   "cell_type": "code",
   "execution_count": 48,
   "id": "87660d52",
   "metadata": {
    "id": "87660d52"
   },
   "outputs": [
    {
     "name": "stdout",
     "output_type": "stream",
     "text": [
      "Tuned Hyperparameters : {'C': 10.0, 'penalty': 'l2', 'solver': 'newton-cg'}\n",
      "Accuracy : 0.6159231851944759\n"
     ]
    }
   ],
   "source": [
    "print(\"Tuned Hyperparameters :\", clf.best_params_)\n",
    "print(\"Accuracy :\",clf.best_score_)"
   ]
  },
  {
   "cell_type": "code",
   "execution_count": 49,
   "id": "145a8b3e",
   "metadata": {
    "id": "145a8b3e"
   },
   "outputs": [
    {
     "data": {
      "text/plain": [
       "LogisticRegression(C=10.0, solver='newton-cg')"
      ]
     },
     "execution_count": 49,
     "metadata": {},
     "output_type": "execute_result"
    }
   ],
   "source": [
    "log_reg = clf.best_estimator_\n",
    "log_reg.fit(X_train,y_train)"
   ]
  },
  {
   "cell_type": "code",
   "execution_count": 50,
   "id": "c8oO2DRl5xKd",
   "metadata": {
    "id": "c8oO2DRl5xKd"
   },
   "outputs": [],
   "source": [
    "yhat_l = log_reg.predict(X_test)"
   ]
  },
  {
   "cell_type": "code",
   "execution_count": 51,
   "id": "AkGuSUDC5xIJ",
   "metadata": {
    "id": "AkGuSUDC5xIJ"
   },
   "outputs": [
    {
     "name": "stdout",
     "output_type": "stream",
     "text": [
      "The jaccard_score of the LR classifier on train data is 0.47\n",
      "The F1-score of the LR classifier on train data is 0.63\n",
      "The accuracy_score of the LR classifier on train data is 0.63\n"
     ]
    }
   ],
   "source": [
    "a4 = jaccard_score(y_test, yhat_l,pos_label=1, average='macro')\n",
    "b4 = f1_score(y_test, yhat_l, average='weighted')\n",
    "c4 = accuracy_score(y_test, yhat_l)\n",
    "print('The jaccard_score of the LR classifier on train data is {:.2f}'.format(a4))\n",
    "print('The F1-score of the LR classifier on train data is {:.2f}'.format(b4))\n",
    "print('The accuracy_score of the LR classifier on train data is {:.2f}'.format(c4))"
   ]
  },
  {
   "cell_type": "markdown",
   "id": "S3lMq30f6Nj6",
   "metadata": {
    "id": "S3lMq30f6Nj6"
   },
   "source": [
    "# Model Evaluation"
   ]
  },
  {
   "cell_type": "code",
   "execution_count": 52,
   "id": "iV9u6O2R5xFf",
   "metadata": {
    "id": "iV9u6O2R5xFf"
   },
   "outputs": [],
   "source": [
    "result_df=pd.DataFrame({'Model':['KNN',\n",
    "                                 'Decision Tree',\n",
    "                                 'SVM',\n",
    "                                 'Logistic Regression'],\n",
    "                        'Jaccard Score' : [a1,a2,a3,a4],\n",
    "                        'F1 Score' : [b1,b2,b3,b4],\n",
    "                        'Accuracy Score':[c1,c2,c3,c4]})"
   ]
  },
  {
   "cell_type": "code",
   "execution_count": 53,
   "id": "E5UCStki5xDW",
   "metadata": {
    "colab": {
     "base_uri": "https://localhost:8080/"
    },
    "id": "E5UCStki5xDW",
    "outputId": "1e9f5efd-0d26-40b3-b694-c4d1a68a8fc9"
   },
   "outputs": [
    {
     "name": "stdout",
     "output_type": "stream",
     "text": [
      "                 Model  Jaccard Score  F1 Score  Accuracy Score\n",
      "0                  KNN       0.479211  0.635576        0.636432\n",
      "1        Decision Tree       0.409370  0.575037        0.575961\n",
      "2                  SVM       0.144068  0.246289        0.274356\n",
      "3  Logistic Regression       0.466739  0.628036        0.627473\n"
     ]
    }
   ],
   "source": [
    "print(result_df)"
   ]
  },
  {
   "cell_type": "markdown",
   "id": "Hbv48PAE6qJa",
   "metadata": {
    "id": "Hbv48PAE6qJa"
   },
   "source": [
    "### Using K-fold cross validation"
   ]
  },
  {
   "cell_type": "code",
   "execution_count": 56,
   "id": "78f38ee1",
   "metadata": {
    "colab": {
     "base_uri": "https://localhost:8080/",
     "height": 547
    },
    "id": "J6rvEzNy5xA-",
    "outputId": "eb8999dd-425d-46fe-a040-57da42772a5c"
   },
   "outputs": [
    {
     "name": "stdout",
     "output_type": "stream",
     "text": [
      "KNN: 0.615545 (0.019030)\n",
      "DT: 0.615545 (0.019030)\n",
      "SVM: 0.615545 (0.019030)\n",
      "LR: 0.615545 (0.019030)\n"
     ]
    },
    {
     "data": {
      "image/png": "[encoded data removed]",
      "text/plain": [
       "<Figure size 640x480 with 1 Axes>"
      ]
     },
     "metadata": {},
     "output_type": "display_data"
    }
   ],
   "source": [
    "from sklearn import model_selection\n",
    "# prepare configuration for cross validation test harness\n",
    "seed = 7\n",
    "# prepare models\n",
    "models = []\n",
    "models.append(('KNN', knn1))\n",
    "models.append(('DT', Class_Tree ))\n",
    "models.append(('SVM', svm))\n",
    "models.append(('LR', log_reg))\n",
    "# evaluate each model in turn\n",
    "results = []\n",
    "names = []\n",
    "scoring = 'accuracy'\n",
    "for name,model in models:\n",
    "    kfold = model_selection.KFold(n_splits=10,\n",
    "                                  random_state=seed,\n",
    "                                  shuffle=True)\n",
    "    cv_results = model_selection.cross_val_score(model,\n",
    "                                                 X_train,\n",
    "                                                 y_train,\n",
    "                                                 cv=kfold,\n",
    "                                                 scoring=scoring)\n",
    "    results.append(cv_results)\n",
    "    names.append(name)\n",
    "for name,model in models:\n",
    "    msg = \"%s: %f (%f)\" % (name, cv_results.mean(), cv_results.std())\n",
    "    print(msg)\n",
    "# boxplot algorithm comparison\n",
    "fig = plt.figure()\n",
    "fig.suptitle('Algorithm Comparison')\n",
    "ax = fig.add_subplot(111)\n",
    "plt.boxplot(results)\n",
    "ax.set_xticklabels(names)\n",
    "plt.show()"
   ]
  }
 ],
 "metadata": {
  "colab": {
   "provenance": []
  },
  "kernelspec": {
   "display_name": "Python 3 (ipykernel)",
   "language": "python",
   "name": "python3"
  },
  "language_info": {
   "codemirror_mode": {
    "name": "ipython",
    "version": 3
   },
   "file_extension": ".py",
   "mimetype": "text/x-python",
   "name": "python",
   "nbconvert_exporter": "python",
   "pygments_lexer": "ipython3",
   "version": "3.9.13"
  }
 },
 "nbformat": 4,
 "nbformat_minor": 5
}
