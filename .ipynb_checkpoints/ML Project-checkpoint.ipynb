{
 "cells": [
  {
   "cell_type": "markdown",
   "id": "454ab4e5",
   "metadata": {
    "id": "454ab4e5"
   },
   "source": [
    "# Project ML Model"
   ]
  },
  {
   "cell_type": "markdown",
   "id": "cc5685fe",
   "metadata": {
    "id": "cc5685fe"
   },
   "source": [
    "## Import Libraries"
   ]
  },
  {
   "cell_type": "code",
   "execution_count": 1,
   "id": "f0ebdd72",
   "metadata": {
    "id": "f0ebdd72"
   },
   "outputs": [],
   "source": [
    "import numpy as np\n",
    "import pandas as pd\n",
    "import matplotlib.pyplot as plt\n",
    "import seaborn as sns"
   ]
  },
  {
   "cell_type": "code",
   "execution_count": 2,
   "id": "6e7828ca",
   "metadata": {
    "id": "6e7828ca"
   },
   "outputs": [],
   "source": [
    "data = pd.read_csv('Mumbai House Prices.csv')"
   ]
  },
  {
   "cell_type": "code",
   "execution_count": 3,
   "id": "b461acd4",
   "metadata": {
    "colab": {
     "base_uri": "https://localhost:8080/",
     "height": 206
    },
    "id": "b461acd4",
    "outputId": "1e87bde1-7cfe-450b-eee5-a34a6b6dc521"
   },
   "outputs": [
    {
     "data": {
      "text/html": [
       "<div>\n",
       "<style scoped>\n",
       "    .dataframe tbody tr th:only-of-type {\n",
       "        vertical-align: middle;\n",
       "    }\n",
       "\n",
       "    .dataframe tbody tr th {\n",
       "        vertical-align: top;\n",
       "    }\n",
       "\n",
       "    .dataframe thead th {\n",
       "        text-align: right;\n",
       "    }\n",
       "</style>\n",
       "<table border=\"1\" class=\"dataframe\">\n",
       "  <thead>\n",
       "    <tr style=\"text-align: right;\">\n",
       "      <th></th>\n",
       "      <th>bhk</th>\n",
       "      <th>type</th>\n",
       "      <th>locality</th>\n",
       "      <th>area</th>\n",
       "      <th>price</th>\n",
       "      <th>price_unit</th>\n",
       "      <th>region</th>\n",
       "      <th>status</th>\n",
       "      <th>age</th>\n",
       "    </tr>\n",
       "  </thead>\n",
       "  <tbody>\n",
       "    <tr>\n",
       "      <th>0</th>\n",
       "      <td>3</td>\n",
       "      <td>Apartment</td>\n",
       "      <td>Lak And Hanware The Residency Tower</td>\n",
       "      <td>685</td>\n",
       "      <td>2.50</td>\n",
       "      <td>Cr</td>\n",
       "      <td>Andheri West</td>\n",
       "      <td>Ready to move</td>\n",
       "      <td>New</td>\n",
       "    </tr>\n",
       "    <tr>\n",
       "      <th>1</th>\n",
       "      <td>2</td>\n",
       "      <td>Apartment</td>\n",
       "      <td>Radheya Sai Enclave Building No 2</td>\n",
       "      <td>640</td>\n",
       "      <td>52.51</td>\n",
       "      <td>L</td>\n",
       "      <td>Naigaon East</td>\n",
       "      <td>Under Construction</td>\n",
       "      <td>New</td>\n",
       "    </tr>\n",
       "    <tr>\n",
       "      <th>2</th>\n",
       "      <td>2</td>\n",
       "      <td>Apartment</td>\n",
       "      <td>Romell Serene</td>\n",
       "      <td>610</td>\n",
       "      <td>1.73</td>\n",
       "      <td>Cr</td>\n",
       "      <td>Borivali West</td>\n",
       "      <td>Under Construction</td>\n",
       "      <td>New</td>\n",
       "    </tr>\n",
       "    <tr>\n",
       "      <th>3</th>\n",
       "      <td>2</td>\n",
       "      <td>Apartment</td>\n",
       "      <td>Soundlines Codename Urban Rainforest</td>\n",
       "      <td>876</td>\n",
       "      <td>59.98</td>\n",
       "      <td>L</td>\n",
       "      <td>Panvel</td>\n",
       "      <td>Under Construction</td>\n",
       "      <td>New</td>\n",
       "    </tr>\n",
       "    <tr>\n",
       "      <th>4</th>\n",
       "      <td>2</td>\n",
       "      <td>Apartment</td>\n",
       "      <td>Origin Oriana</td>\n",
       "      <td>659</td>\n",
       "      <td>94.11</td>\n",
       "      <td>L</td>\n",
       "      <td>Mira Road East</td>\n",
       "      <td>Under Construction</td>\n",
       "      <td>New</td>\n",
       "    </tr>\n",
       "  </tbody>\n",
       "</table>\n",
       "</div>"
      ],
      "text/plain": [
       "   bhk       type                              locality  area  price  \\\n",
       "0    3  Apartment   Lak And Hanware The Residency Tower   685   2.50   \n",
       "1    2  Apartment     Radheya Sai Enclave Building No 2   640  52.51   \n",
       "2    2  Apartment                         Romell Serene   610   1.73   \n",
       "3    2  Apartment  Soundlines Codename Urban Rainforest   876  59.98   \n",
       "4    2  Apartment                         Origin Oriana   659  94.11   \n",
       "\n",
       "  price_unit          region              status  age  \n",
       "0         Cr    Andheri West       Ready to move  New  \n",
       "1          L    Naigaon East  Under Construction  New  \n",
       "2         Cr   Borivali West  Under Construction  New  \n",
       "3          L          Panvel  Under Construction  New  \n",
       "4          L  Mira Road East  Under Construction  New  "
      ]
     },
     "execution_count": 3,
     "metadata": {},
     "output_type": "execute_result"
    }
   ],
   "source": [
    "data.head()"
   ]
  },
  {
   "cell_type": "markdown",
   "id": "8b01b183",
   "metadata": {
    "id": "8b01b183"
   },
   "source": [
    "## Exploratory Data Analysis Steps"
   ]
  },
  {
   "cell_type": "code",
   "execution_count": 4,
   "id": "cf685b0a",
   "metadata": {
    "colab": {
     "base_uri": "https://localhost:8080/"
    },
    "id": "cf685b0a",
    "outputId": "58fd2b94-c0e2-4e0a-ffd5-2b1b9e2f7e80"
   },
   "outputs": [
    {
     "data": {
      "text/plain": [
       "(76038, 9)"
      ]
     },
     "execution_count": 4,
     "metadata": {},
     "output_type": "execute_result"
    }
   ],
   "source": [
    "data.shape"
   ]
  },
  {
   "cell_type": "code",
   "execution_count": 5,
   "id": "4fbee121",
   "metadata": {
    "colab": {
     "base_uri": "https://localhost:8080/"
    },
    "id": "4fbee121",
    "outputId": "014a8a37-76bd-4cfc-e21c-25eb1e8fb326"
   },
   "outputs": [
    {
     "data": {
      "text/plain": [
       "Index(['bhk', 'type', 'locality', 'area', 'price', 'price_unit', 'region',\n",
       "       'status', 'age'],\n",
       "      dtype='object')"
      ]
     },
     "execution_count": 5,
     "metadata": {},
     "output_type": "execute_result"
    }
   ],
   "source": [
    "data.columns"
   ]
  },
  {
   "cell_type": "code",
   "execution_count": 6,
   "id": "bd06b7a0",
   "metadata": {
    "colab": {
     "base_uri": "https://localhost:8080/"
    },
    "id": "bd06b7a0",
    "outputId": "db6b044c-08f6-450a-f8e6-0a7e6c3f7eda"
   },
   "outputs": [
    {
     "name": "stdout",
     "output_type": "stream",
     "text": [
      "<class 'pandas.core.frame.DataFrame'>\n",
      "RangeIndex: 76038 entries, 0 to 76037\n",
      "Data columns (total 9 columns):\n",
      " #   Column      Non-Null Count  Dtype  \n",
      "---  ------      --------------  -----  \n",
      " 0   bhk         76038 non-null  int64  \n",
      " 1   type        76038 non-null  object \n",
      " 2   locality    76038 non-null  object \n",
      " 3   area        76038 non-null  int64  \n",
      " 4   price       76038 non-null  float64\n",
      " 5   price_unit  76038 non-null  object \n",
      " 6   region      76038 non-null  object \n",
      " 7   status      76038 non-null  object \n",
      " 8   age         76038 non-null  object \n",
      "dtypes: float64(1), int64(2), object(6)\n",
      "memory usage: 5.2+ MB\n"
     ]
    }
   ],
   "source": [
    "data.info()"
   ]
  },
  {
   "cell_type": "code",
   "execution_count": 7,
   "id": "5745f76c",
   "metadata": {
    "colab": {
     "base_uri": "https://localhost:8080/",
     "height": 344
    },
    "id": "5745f76c",
    "outputId": "1079def0-0c6b-4079-c12f-4c4a82c0b65a"
   },
   "outputs": [
    {
     "data": {
      "text/html": [
       "<div>\n",
       "<style scoped>\n",
       "    .dataframe tbody tr th:only-of-type {\n",
       "        vertical-align: middle;\n",
       "    }\n",
       "\n",
       "    .dataframe tbody tr th {\n",
       "        vertical-align: top;\n",
       "    }\n",
       "\n",
       "    .dataframe thead th {\n",
       "        text-align: right;\n",
       "    }\n",
       "</style>\n",
       "<table border=\"1\" class=\"dataframe\">\n",
       "  <thead>\n",
       "    <tr style=\"text-align: right;\">\n",
       "      <th></th>\n",
       "      <th>bhk</th>\n",
       "      <th>area</th>\n",
       "      <th>price</th>\n",
       "    </tr>\n",
       "  </thead>\n",
       "  <tbody>\n",
       "    <tr>\n",
       "      <th>count</th>\n",
       "      <td>76038.000000</td>\n",
       "      <td>76038.000000</td>\n",
       "      <td>76038.00000</td>\n",
       "    </tr>\n",
       "    <tr>\n",
       "      <th>mean</th>\n",
       "      <td>2.015111</td>\n",
       "      <td>1024.536850</td>\n",
       "      <td>29.38227</td>\n",
       "    </tr>\n",
       "    <tr>\n",
       "      <th>std</th>\n",
       "      <td>0.922754</td>\n",
       "      <td>670.276165</td>\n",
       "      <td>32.90345</td>\n",
       "    </tr>\n",
       "    <tr>\n",
       "      <th>min</th>\n",
       "      <td>1.000000</td>\n",
       "      <td>127.000000</td>\n",
       "      <td>1.00000</td>\n",
       "    </tr>\n",
       "    <tr>\n",
       "      <th>25%</th>\n",
       "      <td>1.000000</td>\n",
       "      <td>640.000000</td>\n",
       "      <td>1.75000</td>\n",
       "    </tr>\n",
       "    <tr>\n",
       "      <th>50%</th>\n",
       "      <td>2.000000</td>\n",
       "      <td>872.000000</td>\n",
       "      <td>5.50000</td>\n",
       "    </tr>\n",
       "    <tr>\n",
       "      <th>75%</th>\n",
       "      <td>3.000000</td>\n",
       "      <td>1179.000000</td>\n",
       "      <td>59.00000</td>\n",
       "    </tr>\n",
       "    <tr>\n",
       "      <th>max</th>\n",
       "      <td>10.000000</td>\n",
       "      <td>16000.000000</td>\n",
       "      <td>99.99000</td>\n",
       "    </tr>\n",
       "  </tbody>\n",
       "</table>\n",
       "</div>"
      ],
      "text/plain": [
       "                bhk          area        price\n",
       "count  76038.000000  76038.000000  76038.00000\n",
       "mean       2.015111   1024.536850     29.38227\n",
       "std        0.922754    670.276165     32.90345\n",
       "min        1.000000    127.000000      1.00000\n",
       "25%        1.000000    640.000000      1.75000\n",
       "50%        2.000000    872.000000      5.50000\n",
       "75%        3.000000   1179.000000     59.00000\n",
       "max       10.000000  16000.000000     99.99000"
      ]
     },
     "execution_count": 7,
     "metadata": {},
     "output_type": "execute_result"
    }
   ],
   "source": [
    "data.describe()"
   ]
  },
  {
   "cell_type": "code",
   "execution_count": 8,
   "id": "189f9249",
   "metadata": {
    "colab": {
     "base_uri": "https://localhost:8080/",
     "height": 174
    },
    "id": "189f9249",
    "outputId": "0a247209-903d-4b5e-a0fe-6c7fae5214f7"
   },
   "outputs": [
    {
     "data": {
      "text/html": [
       "<div>\n",
       "<style scoped>\n",
       "    .dataframe tbody tr th:only-of-type {\n",
       "        vertical-align: middle;\n",
       "    }\n",
       "\n",
       "    .dataframe tbody tr th {\n",
       "        vertical-align: top;\n",
       "    }\n",
       "\n",
       "    .dataframe thead th {\n",
       "        text-align: right;\n",
       "    }\n",
       "</style>\n",
       "<table border=\"1\" class=\"dataframe\">\n",
       "  <thead>\n",
       "    <tr style=\"text-align: right;\">\n",
       "      <th></th>\n",
       "      <th>type</th>\n",
       "      <th>locality</th>\n",
       "      <th>price_unit</th>\n",
       "      <th>region</th>\n",
       "      <th>status</th>\n",
       "      <th>age</th>\n",
       "    </tr>\n",
       "  </thead>\n",
       "  <tbody>\n",
       "    <tr>\n",
       "      <th>count</th>\n",
       "      <td>76038</td>\n",
       "      <td>76038</td>\n",
       "      <td>76038</td>\n",
       "      <td>76038</td>\n",
       "      <td>76038</td>\n",
       "      <td>76038</td>\n",
       "    </tr>\n",
       "    <tr>\n",
       "      <th>unique</th>\n",
       "      <td>5</td>\n",
       "      <td>9782</td>\n",
       "      <td>2</td>\n",
       "      <td>228</td>\n",
       "      <td>2</td>\n",
       "      <td>3</td>\n",
       "    </tr>\n",
       "    <tr>\n",
       "      <th>top</th>\n",
       "      <td>Apartment</td>\n",
       "      <td>Hiranandani Meadows</td>\n",
       "      <td>Cr</td>\n",
       "      <td>Thane West</td>\n",
       "      <td>Ready to move</td>\n",
       "      <td>New</td>\n",
       "    </tr>\n",
       "    <tr>\n",
       "      <th>freq</th>\n",
       "      <td>74854</td>\n",
       "      <td>861</td>\n",
       "      <td>40981</td>\n",
       "      <td>14868</td>\n",
       "      <td>44982</td>\n",
       "      <td>38072</td>\n",
       "    </tr>\n",
       "  </tbody>\n",
       "</table>\n",
       "</div>"
      ],
      "text/plain": [
       "             type             locality price_unit      region         status  \\\n",
       "count       76038                76038      76038       76038          76038   \n",
       "unique          5                 9782          2         228              2   \n",
       "top     Apartment  Hiranandani Meadows         Cr  Thane West  Ready to move   \n",
       "freq        74854                  861      40981       14868          44982   \n",
       "\n",
       "          age  \n",
       "count   76038  \n",
       "unique      3  \n",
       "top       New  \n",
       "freq    38072  "
      ]
     },
     "execution_count": 8,
     "metadata": {},
     "output_type": "execute_result"
    }
   ],
   "source": [
    "data.describe(include = 'object')"
   ]
  },
  {
   "cell_type": "markdown",
   "id": "75315635",
   "metadata": {
    "id": "75315635"
   },
   "source": [
    "## Pre-Processing Steps"
   ]
  },
  {
   "cell_type": "markdown",
   "id": "b2e2edd5-fa02-44e9-8598-f2233850cc22",
   "metadata": {},
   "source": [
    "#### Column = type"
   ]
  },
  {
   "cell_type": "code",
   "execution_count": 9,
   "id": "2e4f46d7",
   "metadata": {
    "colab": {
     "base_uri": "https://localhost:8080/"
    },
    "id": "2e4f46d7",
    "outputId": "f98f39aa-a07b-4922-b93e-0aa6541fd507"
   },
   "outputs": [
    {
     "data": {
      "text/plain": [
       "type\n",
       "Apartment            74854\n",
       "Studio Apartment       882\n",
       "Villa                  226\n",
       "Independent House       73\n",
       "Penthouse                3\n",
       "Name: count, dtype: int64"
      ]
     },
     "execution_count": 9,
     "metadata": {},
     "output_type": "execute_result"
    }
   ],
   "source": [
    "data['type'].value_counts()"
   ]
  },
  {
   "cell_type": "code",
   "execution_count": 10,
   "id": "fc37e053-85ec-43c1-aa76-0747ef4dd945",
   "metadata": {},
   "outputs": [
    {
     "name": "stderr",
     "output_type": "stream",
     "text": [
      "C:\\Users\\HP\\AppData\\Local\\Temp\\ipykernel_12148\\191704274.py:1: FutureWarning: Downcasting behavior in `replace` is deprecated and will be removed in a future version. To retain the old behavior, explicitly call `result.infer_objects(copy=False)`. To opt-in to the future behavior, set `pd.set_option('future.no_silent_downcasting', True)`\n",
      "  data.loc[:, 'type'] = data['type'].replace(\n"
     ]
    },
    {
     "data": {
      "text/html": [
       "<div>\n",
       "<style scoped>\n",
       "    .dataframe tbody tr th:only-of-type {\n",
       "        vertical-align: middle;\n",
       "    }\n",
       "\n",
       "    .dataframe tbody tr th {\n",
       "        vertical-align: top;\n",
       "    }\n",
       "\n",
       "    .dataframe thead th {\n",
       "        text-align: right;\n",
       "    }\n",
       "</style>\n",
       "<table border=\"1\" class=\"dataframe\">\n",
       "  <thead>\n",
       "    <tr style=\"text-align: right;\">\n",
       "      <th></th>\n",
       "      <th>bhk</th>\n",
       "      <th>type</th>\n",
       "      <th>locality</th>\n",
       "      <th>area</th>\n",
       "      <th>price</th>\n",
       "      <th>price_unit</th>\n",
       "      <th>region</th>\n",
       "      <th>status</th>\n",
       "      <th>age</th>\n",
       "    </tr>\n",
       "  </thead>\n",
       "  <tbody>\n",
       "    <tr>\n",
       "      <th>0</th>\n",
       "      <td>3</td>\n",
       "      <td>0</td>\n",
       "      <td>Lak And Hanware The Residency Tower</td>\n",
       "      <td>685</td>\n",
       "      <td>2.50</td>\n",
       "      <td>Cr</td>\n",
       "      <td>Andheri West</td>\n",
       "      <td>Ready to move</td>\n",
       "      <td>New</td>\n",
       "    </tr>\n",
       "    <tr>\n",
       "      <th>1</th>\n",
       "      <td>2</td>\n",
       "      <td>0</td>\n",
       "      <td>Radheya Sai Enclave Building No 2</td>\n",
       "      <td>640</td>\n",
       "      <td>52.51</td>\n",
       "      <td>L</td>\n",
       "      <td>Naigaon East</td>\n",
       "      <td>Under Construction</td>\n",
       "      <td>New</td>\n",
       "    </tr>\n",
       "    <tr>\n",
       "      <th>2</th>\n",
       "      <td>2</td>\n",
       "      <td>0</td>\n",
       "      <td>Romell Serene</td>\n",
       "      <td>610</td>\n",
       "      <td>1.73</td>\n",
       "      <td>Cr</td>\n",
       "      <td>Borivali West</td>\n",
       "      <td>Under Construction</td>\n",
       "      <td>New</td>\n",
       "    </tr>\n",
       "    <tr>\n",
       "      <th>3</th>\n",
       "      <td>2</td>\n",
       "      <td>0</td>\n",
       "      <td>Soundlines Codename Urban Rainforest</td>\n",
       "      <td>876</td>\n",
       "      <td>59.98</td>\n",
       "      <td>L</td>\n",
       "      <td>Panvel</td>\n",
       "      <td>Under Construction</td>\n",
       "      <td>New</td>\n",
       "    </tr>\n",
       "    <tr>\n",
       "      <th>4</th>\n",
       "      <td>2</td>\n",
       "      <td>0</td>\n",
       "      <td>Origin Oriana</td>\n",
       "      <td>659</td>\n",
       "      <td>94.11</td>\n",
       "      <td>L</td>\n",
       "      <td>Mira Road East</td>\n",
       "      <td>Under Construction</td>\n",
       "      <td>New</td>\n",
       "    </tr>\n",
       "  </tbody>\n",
       "</table>\n",
       "</div>"
      ],
      "text/plain": [
       "   bhk type                              locality  area  price price_unit  \\\n",
       "0    3    0   Lak And Hanware The Residency Tower   685   2.50         Cr   \n",
       "1    2    0     Radheya Sai Enclave Building No 2   640  52.51          L   \n",
       "2    2    0                         Romell Serene   610   1.73         Cr   \n",
       "3    2    0  Soundlines Codename Urban Rainforest   876  59.98          L   \n",
       "4    2    0                         Origin Oriana   659  94.11          L   \n",
       "\n",
       "           region              status  age  \n",
       "0    Andheri West       Ready to move  New  \n",
       "1    Naigaon East  Under Construction  New  \n",
       "2   Borivali West  Under Construction  New  \n",
       "3          Panvel  Under Construction  New  \n",
       "4  Mira Road East  Under Construction  New  "
      ]
     },
     "execution_count": 10,
     "metadata": {},
     "output_type": "execute_result"
    }
   ],
   "source": [
    "data.loc[:, 'type'] = data['type'].replace(\n",
    "    to_replace=['Apartment', 'Studio Apartment', 'Villa', 'Independent House', 'Penthouse'],\n",
    "    value=[0, 1, 2, 3, 4]\n",
    ")\n",
    "\n",
    "data.head()"
   ]
  },
  {
   "cell_type": "markdown",
   "id": "3f90e681-5c48-448e-9ee9-d1259756153c",
   "metadata": {},
   "source": [
    "#### Column = region (228 regions -> May create complications in Frontend and bankend Predictions.)"
   ]
  },
  {
   "cell_type": "code",
   "execution_count": 11,
   "id": "8da1ef49-adf2-4f26-a01e-2e92b95ad8cd",
   "metadata": {
    "colab": {
     "base_uri": "https://localhost:8080/"
    },
    "id": "2e4f46d7",
    "outputId": "f98f39aa-a07b-4922-b93e-0aa6541fd507"
   },
   "outputs": [],
   "source": [
    "# data['region'].value_counts()"
   ]
  },
  {
   "cell_type": "code",
   "execution_count": 12,
   "id": "d2db2f57-e29d-4561-9d4b-9c4515792b3a",
   "metadata": {},
   "outputs": [],
   "source": [
    "# data.loc[:, 'region'] = data['region'].replace(\n",
    "#     to_replace=[---],\n",
    "#     value=[0, 1, 2, 3, 4]\n",
    "# )\n",
    "\n",
    "# data.head()"
   ]
  },
  {
   "cell_type": "markdown",
   "id": "212f8227-5bd1-41d4-acc3-bc6cfb6c15ee",
   "metadata": {},
   "source": [
    "#### Column = Status"
   ]
  },
  {
   "cell_type": "code",
   "execution_count": 13,
   "id": "7b315ba8-0926-485e-9221-c1643461a486",
   "metadata": {
    "colab": {
     "base_uri": "https://localhost:8080/"
    },
    "id": "2e4f46d7",
    "outputId": "f98f39aa-a07b-4922-b93e-0aa6541fd507"
   },
   "outputs": [
    {
     "data": {
      "text/plain": [
       "status\n",
       "Ready to move         44982\n",
       "Under Construction    31056\n",
       "Name: count, dtype: int64"
      ]
     },
     "execution_count": 13,
     "metadata": {},
     "output_type": "execute_result"
    }
   ],
   "source": [
    "data['status'].value_counts()"
   ]
  },
  {
   "cell_type": "code",
   "execution_count": 14,
   "id": "5e2f5708-9804-4ece-8f3d-98a93f759fc9",
   "metadata": {},
   "outputs": [
    {
     "name": "stderr",
     "output_type": "stream",
     "text": [
      "C:\\Users\\HP\\AppData\\Local\\Temp\\ipykernel_12148\\297681783.py:1: FutureWarning: Downcasting behavior in `replace` is deprecated and will be removed in a future version. To retain the old behavior, explicitly call `result.infer_objects(copy=False)`. To opt-in to the future behavior, set `pd.set_option('future.no_silent_downcasting', True)`\n",
      "  data.loc[:, 'status'] = data['status'].replace(\n"
     ]
    },
    {
     "data": {
      "text/html": [
       "<div>\n",
       "<style scoped>\n",
       "    .dataframe tbody tr th:only-of-type {\n",
       "        vertical-align: middle;\n",
       "    }\n",
       "\n",
       "    .dataframe tbody tr th {\n",
       "        vertical-align: top;\n",
       "    }\n",
       "\n",
       "    .dataframe thead th {\n",
       "        text-align: right;\n",
       "    }\n",
       "</style>\n",
       "<table border=\"1\" class=\"dataframe\">\n",
       "  <thead>\n",
       "    <tr style=\"text-align: right;\">\n",
       "      <th></th>\n",
       "      <th>bhk</th>\n",
       "      <th>type</th>\n",
       "      <th>locality</th>\n",
       "      <th>area</th>\n",
       "      <th>price</th>\n",
       "      <th>price_unit</th>\n",
       "      <th>region</th>\n",
       "      <th>status</th>\n",
       "      <th>age</th>\n",
       "    </tr>\n",
       "  </thead>\n",
       "  <tbody>\n",
       "    <tr>\n",
       "      <th>0</th>\n",
       "      <td>3</td>\n",
       "      <td>0</td>\n",
       "      <td>Lak And Hanware The Residency Tower</td>\n",
       "      <td>685</td>\n",
       "      <td>2.50</td>\n",
       "      <td>Cr</td>\n",
       "      <td>Andheri West</td>\n",
       "      <td>0</td>\n",
       "      <td>New</td>\n",
       "    </tr>\n",
       "    <tr>\n",
       "      <th>1</th>\n",
       "      <td>2</td>\n",
       "      <td>0</td>\n",
       "      <td>Radheya Sai Enclave Building No 2</td>\n",
       "      <td>640</td>\n",
       "      <td>52.51</td>\n",
       "      <td>L</td>\n",
       "      <td>Naigaon East</td>\n",
       "      <td>1</td>\n",
       "      <td>New</td>\n",
       "    </tr>\n",
       "    <tr>\n",
       "      <th>2</th>\n",
       "      <td>2</td>\n",
       "      <td>0</td>\n",
       "      <td>Romell Serene</td>\n",
       "      <td>610</td>\n",
       "      <td>1.73</td>\n",
       "      <td>Cr</td>\n",
       "      <td>Borivali West</td>\n",
       "      <td>1</td>\n",
       "      <td>New</td>\n",
       "    </tr>\n",
       "    <tr>\n",
       "      <th>3</th>\n",
       "      <td>2</td>\n",
       "      <td>0</td>\n",
       "      <td>Soundlines Codename Urban Rainforest</td>\n",
       "      <td>876</td>\n",
       "      <td>59.98</td>\n",
       "      <td>L</td>\n",
       "      <td>Panvel</td>\n",
       "      <td>1</td>\n",
       "      <td>New</td>\n",
       "    </tr>\n",
       "    <tr>\n",
       "      <th>4</th>\n",
       "      <td>2</td>\n",
       "      <td>0</td>\n",
       "      <td>Origin Oriana</td>\n",
       "      <td>659</td>\n",
       "      <td>94.11</td>\n",
       "      <td>L</td>\n",
       "      <td>Mira Road East</td>\n",
       "      <td>1</td>\n",
       "      <td>New</td>\n",
       "    </tr>\n",
       "  </tbody>\n",
       "</table>\n",
       "</div>"
      ],
      "text/plain": [
       "   bhk type                              locality  area  price price_unit  \\\n",
       "0    3    0   Lak And Hanware The Residency Tower   685   2.50         Cr   \n",
       "1    2    0     Radheya Sai Enclave Building No 2   640  52.51          L   \n",
       "2    2    0                         Romell Serene   610   1.73         Cr   \n",
       "3    2    0  Soundlines Codename Urban Rainforest   876  59.98          L   \n",
       "4    2    0                         Origin Oriana   659  94.11          L   \n",
       "\n",
       "           region status  age  \n",
       "0    Andheri West      0  New  \n",
       "1    Naigaon East      1  New  \n",
       "2   Borivali West      1  New  \n",
       "3          Panvel      1  New  \n",
       "4  Mira Road East      1  New  "
      ]
     },
     "execution_count": 14,
     "metadata": {},
     "output_type": "execute_result"
    }
   ],
   "source": [
    "data.loc[:, 'status'] = data['status'].replace(\n",
    "    to_replace=['Ready to move', 'Under Construction'],\n",
    "    value=[0, 1]\n",
    ")\n",
    "\n",
    "data.head()"
   ]
  },
  {
   "cell_type": "markdown",
   "id": "0107bb5b-8ca8-4e6a-9064-c7cd34b90890",
   "metadata": {},
   "source": [
    "#### Column = age"
   ]
  },
  {
   "cell_type": "code",
   "execution_count": 15,
   "id": "529d535e-0938-47ae-af3b-a01049cbf852",
   "metadata": {
    "colab": {
     "base_uri": "https://localhost:8080/"
    },
    "id": "2e4f46d7",
    "outputId": "f98f39aa-a07b-4922-b93e-0aa6541fd507"
   },
   "outputs": [
    {
     "data": {
      "text/plain": [
       "age\n",
       "New        38072\n",
       "Resale     23357\n",
       "Unknown    14609\n",
       "Name: count, dtype: int64"
      ]
     },
     "execution_count": 15,
     "metadata": {},
     "output_type": "execute_result"
    }
   ],
   "source": [
    "data['age'].value_counts()"
   ]
  },
  {
   "cell_type": "code",
   "execution_count": 16,
   "id": "cfcf76d0-7ae9-4b58-9006-39968801081d",
   "metadata": {},
   "outputs": [
    {
     "name": "stderr",
     "output_type": "stream",
     "text": [
      "C:\\Users\\HP\\AppData\\Local\\Temp\\ipykernel_12148\\983612623.py:1: FutureWarning: Downcasting behavior in `replace` is deprecated and will be removed in a future version. To retain the old behavior, explicitly call `result.infer_objects(copy=False)`. To opt-in to the future behavior, set `pd.set_option('future.no_silent_downcasting', True)`\n",
      "  data.loc[:, 'age'] = data['age'].replace(\n"
     ]
    },
    {
     "data": {
      "text/html": [
       "<div>\n",
       "<style scoped>\n",
       "    .dataframe tbody tr th:only-of-type {\n",
       "        vertical-align: middle;\n",
       "    }\n",
       "\n",
       "    .dataframe tbody tr th {\n",
       "        vertical-align: top;\n",
       "    }\n",
       "\n",
       "    .dataframe thead th {\n",
       "        text-align: right;\n",
       "    }\n",
       "</style>\n",
       "<table border=\"1\" class=\"dataframe\">\n",
       "  <thead>\n",
       "    <tr style=\"text-align: right;\">\n",
       "      <th></th>\n",
       "      <th>bhk</th>\n",
       "      <th>type</th>\n",
       "      <th>locality</th>\n",
       "      <th>area</th>\n",
       "      <th>price</th>\n",
       "      <th>price_unit</th>\n",
       "      <th>region</th>\n",
       "      <th>status</th>\n",
       "      <th>age</th>\n",
       "    </tr>\n",
       "  </thead>\n",
       "  <tbody>\n",
       "    <tr>\n",
       "      <th>0</th>\n",
       "      <td>3</td>\n",
       "      <td>0</td>\n",
       "      <td>Lak And Hanware The Residency Tower</td>\n",
       "      <td>685</td>\n",
       "      <td>2.50</td>\n",
       "      <td>Cr</td>\n",
       "      <td>Andheri West</td>\n",
       "      <td>0</td>\n",
       "      <td>0</td>\n",
       "    </tr>\n",
       "    <tr>\n",
       "      <th>1</th>\n",
       "      <td>2</td>\n",
       "      <td>0</td>\n",
       "      <td>Radheya Sai Enclave Building No 2</td>\n",
       "      <td>640</td>\n",
       "      <td>52.51</td>\n",
       "      <td>L</td>\n",
       "      <td>Naigaon East</td>\n",
       "      <td>1</td>\n",
       "      <td>0</td>\n",
       "    </tr>\n",
       "    <tr>\n",
       "      <th>2</th>\n",
       "      <td>2</td>\n",
       "      <td>0</td>\n",
       "      <td>Romell Serene</td>\n",
       "      <td>610</td>\n",
       "      <td>1.73</td>\n",
       "      <td>Cr</td>\n",
       "      <td>Borivali West</td>\n",
       "      <td>1</td>\n",
       "      <td>0</td>\n",
       "    </tr>\n",
       "    <tr>\n",
       "      <th>3</th>\n",
       "      <td>2</td>\n",
       "      <td>0</td>\n",
       "      <td>Soundlines Codename Urban Rainforest</td>\n",
       "      <td>876</td>\n",
       "      <td>59.98</td>\n",
       "      <td>L</td>\n",
       "      <td>Panvel</td>\n",
       "      <td>1</td>\n",
       "      <td>0</td>\n",
       "    </tr>\n",
       "    <tr>\n",
       "      <th>4</th>\n",
       "      <td>2</td>\n",
       "      <td>0</td>\n",
       "      <td>Origin Oriana</td>\n",
       "      <td>659</td>\n",
       "      <td>94.11</td>\n",
       "      <td>L</td>\n",
       "      <td>Mira Road East</td>\n",
       "      <td>1</td>\n",
       "      <td>0</td>\n",
       "    </tr>\n",
       "  </tbody>\n",
       "</table>\n",
       "</div>"
      ],
      "text/plain": [
       "   bhk type                              locality  area  price price_unit  \\\n",
       "0    3    0   Lak And Hanware The Residency Tower   685   2.50         Cr   \n",
       "1    2    0     Radheya Sai Enclave Building No 2   640  52.51          L   \n",
       "2    2    0                         Romell Serene   610   1.73         Cr   \n",
       "3    2    0  Soundlines Codename Urban Rainforest   876  59.98          L   \n",
       "4    2    0                         Origin Oriana   659  94.11          L   \n",
       "\n",
       "           region status age  \n",
       "0    Andheri West      0   0  \n",
       "1    Naigaon East      1   0  \n",
       "2   Borivali West      1   0  \n",
       "3          Panvel      1   0  \n",
       "4  Mira Road East      1   0  "
      ]
     },
     "execution_count": 16,
     "metadata": {},
     "output_type": "execute_result"
    }
   ],
   "source": [
    "data.loc[:, 'age'] = data['age'].replace(\n",
    "    to_replace=['New', 'Resale', 'Unknown'],\n",
    "    value=[0, 1, 2]\n",
    ")\n",
    "\n",
    "data.head()"
   ]
  },
  {
   "cell_type": "code",
   "execution_count": 17,
   "id": "9f98c8a9-7192-46c3-925e-dfef82e325df",
   "metadata": {},
   "outputs": [],
   "source": [
    "# Function to convert price to lakhs\n",
    "def convert_price_to_lakhs(price, unit):\n",
    "    if unit == 'Cr':\n",
    "        return price * 100\n",
    "    elif unit == 'L':\n",
    "        return price \n",
    "    else:\n",
    "        return None\n",
    "\n",
    "# Apply the conversion function to each row\n",
    "data['price_in_lakhs'] = data.apply(lambda row: convert_price_to_lakhs(row['price'], row['price_unit']), axis=1)\n",
    "\n",
    "# Drop the old price and price_unit columns\n",
    "data.drop(['price', 'price_unit'], axis=1, inplace=True)"
   ]
  },
  {
   "cell_type": "code",
   "execution_count": 18,
   "id": "51a183a5-da56-4aec-a414-f38edc3abcb5",
   "metadata": {},
   "outputs": [
    {
     "data": {
      "text/html": [
       "<div>\n",
       "<style scoped>\n",
       "    .dataframe tbody tr th:only-of-type {\n",
       "        vertical-align: middle;\n",
       "    }\n",
       "\n",
       "    .dataframe tbody tr th {\n",
       "        vertical-align: top;\n",
       "    }\n",
       "\n",
       "    .dataframe thead th {\n",
       "        text-align: right;\n",
       "    }\n",
       "</style>\n",
       "<table border=\"1\" class=\"dataframe\">\n",
       "  <thead>\n",
       "    <tr style=\"text-align: right;\">\n",
       "      <th></th>\n",
       "      <th>bhk</th>\n",
       "      <th>type</th>\n",
       "      <th>locality</th>\n",
       "      <th>area</th>\n",
       "      <th>region</th>\n",
       "      <th>status</th>\n",
       "      <th>age</th>\n",
       "      <th>price_in_lakhs</th>\n",
       "    </tr>\n",
       "  </thead>\n",
       "  <tbody>\n",
       "    <tr>\n",
       "      <th>0</th>\n",
       "      <td>3</td>\n",
       "      <td>0</td>\n",
       "      <td>Lak And Hanware The Residency Tower</td>\n",
       "      <td>685</td>\n",
       "      <td>Andheri West</td>\n",
       "      <td>0</td>\n",
       "      <td>0</td>\n",
       "      <td>250.00</td>\n",
       "    </tr>\n",
       "    <tr>\n",
       "      <th>1</th>\n",
       "      <td>2</td>\n",
       "      <td>0</td>\n",
       "      <td>Radheya Sai Enclave Building No 2</td>\n",
       "      <td>640</td>\n",
       "      <td>Naigaon East</td>\n",
       "      <td>1</td>\n",
       "      <td>0</td>\n",
       "      <td>52.51</td>\n",
       "    </tr>\n",
       "    <tr>\n",
       "      <th>2</th>\n",
       "      <td>2</td>\n",
       "      <td>0</td>\n",
       "      <td>Romell Serene</td>\n",
       "      <td>610</td>\n",
       "      <td>Borivali West</td>\n",
       "      <td>1</td>\n",
       "      <td>0</td>\n",
       "      <td>173.00</td>\n",
       "    </tr>\n",
       "    <tr>\n",
       "      <th>3</th>\n",
       "      <td>2</td>\n",
       "      <td>0</td>\n",
       "      <td>Soundlines Codename Urban Rainforest</td>\n",
       "      <td>876</td>\n",
       "      <td>Panvel</td>\n",
       "      <td>1</td>\n",
       "      <td>0</td>\n",
       "      <td>59.98</td>\n",
       "    </tr>\n",
       "    <tr>\n",
       "      <th>4</th>\n",
       "      <td>2</td>\n",
       "      <td>0</td>\n",
       "      <td>Origin Oriana</td>\n",
       "      <td>659</td>\n",
       "      <td>Mira Road East</td>\n",
       "      <td>1</td>\n",
       "      <td>0</td>\n",
       "      <td>94.11</td>\n",
       "    </tr>\n",
       "  </tbody>\n",
       "</table>\n",
       "</div>"
      ],
      "text/plain": [
       "   bhk type                              locality  area          region  \\\n",
       "0    3    0   Lak And Hanware The Residency Tower   685    Andheri West   \n",
       "1    2    0     Radheya Sai Enclave Building No 2   640    Naigaon East   \n",
       "2    2    0                         Romell Serene   610   Borivali West   \n",
       "3    2    0  Soundlines Codename Urban Rainforest   876          Panvel   \n",
       "4    2    0                         Origin Oriana   659  Mira Road East   \n",
       "\n",
       "  status age  price_in_lakhs  \n",
       "0      0   0          250.00  \n",
       "1      1   0           52.51  \n",
       "2      1   0          173.00  \n",
       "3      1   0           59.98  \n",
       "4      1   0           94.11  "
      ]
     },
     "execution_count": 18,
     "metadata": {},
     "output_type": "execute_result"
    }
   ],
   "source": [
    "data.head()"
   ]
  },
  {
   "cell_type": "markdown",
   "id": "3ce6982d",
   "metadata": {
    "id": "3ce6982d"
   },
   "source": [
    "## Selecting Features"
   ]
  },
  {
   "cell_type": "code",
   "execution_count": 19,
   "id": "225f9c39",
   "metadata": {
    "id": "225f9c39"
   },
   "outputs": [],
   "source": [
    "# Feature = data[['bhk','type','status','age']]\n",
    "\n",
    "Feature = data[['bhk','type','area','status','age']]"
   ]
  },
  {
   "cell_type": "code",
   "execution_count": 20,
   "id": "620e8130",
   "metadata": {
    "colab": {
     "base_uri": "https://localhost:8080/",
     "height": 206
    },
    "id": "620e8130",
    "outputId": "ec43327f-5857-4896-e0e8-e418fc40635b"
   },
   "outputs": [
    {
     "data": {
      "text/html": [
       "<div>\n",
       "<style scoped>\n",
       "    .dataframe tbody tr th:only-of-type {\n",
       "        vertical-align: middle;\n",
       "    }\n",
       "\n",
       "    .dataframe tbody tr th {\n",
       "        vertical-align: top;\n",
       "    }\n",
       "\n",
       "    .dataframe thead th {\n",
       "        text-align: right;\n",
       "    }\n",
       "</style>\n",
       "<table border=\"1\" class=\"dataframe\">\n",
       "  <thead>\n",
       "    <tr style=\"text-align: right;\">\n",
       "      <th></th>\n",
       "      <th>bhk</th>\n",
       "      <th>type</th>\n",
       "      <th>area</th>\n",
       "      <th>status</th>\n",
       "      <th>age</th>\n",
       "    </tr>\n",
       "  </thead>\n",
       "  <tbody>\n",
       "    <tr>\n",
       "      <th>0</th>\n",
       "      <td>3</td>\n",
       "      <td>0</td>\n",
       "      <td>685</td>\n",
       "      <td>0</td>\n",
       "      <td>0</td>\n",
       "    </tr>\n",
       "    <tr>\n",
       "      <th>1</th>\n",
       "      <td>2</td>\n",
       "      <td>0</td>\n",
       "      <td>640</td>\n",
       "      <td>1</td>\n",
       "      <td>0</td>\n",
       "    </tr>\n",
       "    <tr>\n",
       "      <th>2</th>\n",
       "      <td>2</td>\n",
       "      <td>0</td>\n",
       "      <td>610</td>\n",
       "      <td>1</td>\n",
       "      <td>0</td>\n",
       "    </tr>\n",
       "    <tr>\n",
       "      <th>3</th>\n",
       "      <td>2</td>\n",
       "      <td>0</td>\n",
       "      <td>876</td>\n",
       "      <td>1</td>\n",
       "      <td>0</td>\n",
       "    </tr>\n",
       "    <tr>\n",
       "      <th>4</th>\n",
       "      <td>2</td>\n",
       "      <td>0</td>\n",
       "      <td>659</td>\n",
       "      <td>1</td>\n",
       "      <td>0</td>\n",
       "    </tr>\n",
       "  </tbody>\n",
       "</table>\n",
       "</div>"
      ],
      "text/plain": [
       "   bhk type  area status age\n",
       "0    3    0   685      0   0\n",
       "1    2    0   640      1   0\n",
       "2    2    0   610      1   0\n",
       "3    2    0   876      1   0\n",
       "4    2    0   659      1   0"
      ]
     },
     "execution_count": 20,
     "metadata": {},
     "output_type": "execute_result"
    }
   ],
   "source": [
    "Feature.head()"
   ]
  },
  {
   "cell_type": "code",
   "execution_count": 21,
   "id": "1a6f00f3",
   "metadata": {
    "colab": {
     "base_uri": "https://localhost:8080/"
    },
    "id": "1a6f00f3",
    "outputId": "e833eb17-8775-4db7-a0ea-6d6d862a1425"
   },
   "outputs": [
    {
     "name": "stdout",
     "output_type": "stream",
     "text": [
      "<class 'pandas.core.frame.DataFrame'>\n",
      "RangeIndex: 76038 entries, 0 to 76037\n",
      "Data columns (total 5 columns):\n",
      " #   Column  Non-Null Count  Dtype \n",
      "---  ------  --------------  ----- \n",
      " 0   bhk     76038 non-null  int64 \n",
      " 1   type    76038 non-null  object\n",
      " 2   area    76038 non-null  int64 \n",
      " 3   status  76038 non-null  object\n",
      " 4   age     76038 non-null  object\n",
      "dtypes: int64(2), object(3)\n",
      "memory usage: 2.9+ MB\n"
     ]
    }
   ],
   "source": [
    "Feature.info()"
   ]
  },
  {
   "cell_type": "markdown",
   "id": "b4e3cb2d",
   "metadata": {
    "id": "b4e3cb2d"
   },
   "source": [
    "## Lets Define Feature sets, X:"
   ]
  },
  {
   "cell_type": "code",
   "execution_count": 22,
   "id": "5a6faf74",
   "metadata": {
    "colab": {
     "base_uri": "https://localhost:8080/",
     "height": 206
    },
    "id": "5a6faf74",
    "outputId": "987ac262-eb17-43d9-d933-29ee4cba8e02"
   },
   "outputs": [
    {
     "data": {
      "text/html": [
       "<div>\n",
       "<style scoped>\n",
       "    .dataframe tbody tr th:only-of-type {\n",
       "        vertical-align: middle;\n",
       "    }\n",
       "\n",
       "    .dataframe tbody tr th {\n",
       "        vertical-align: top;\n",
       "    }\n",
       "\n",
       "    .dataframe thead th {\n",
       "        text-align: right;\n",
       "    }\n",
       "</style>\n",
       "<table border=\"1\" class=\"dataframe\">\n",
       "  <thead>\n",
       "    <tr style=\"text-align: right;\">\n",
       "      <th></th>\n",
       "      <th>bhk</th>\n",
       "      <th>type</th>\n",
       "      <th>area</th>\n",
       "      <th>status</th>\n",
       "      <th>age</th>\n",
       "    </tr>\n",
       "  </thead>\n",
       "  <tbody>\n",
       "    <tr>\n",
       "      <th>0</th>\n",
       "      <td>3</td>\n",
       "      <td>0</td>\n",
       "      <td>685</td>\n",
       "      <td>0</td>\n",
       "      <td>0</td>\n",
       "    </tr>\n",
       "    <tr>\n",
       "      <th>1</th>\n",
       "      <td>2</td>\n",
       "      <td>0</td>\n",
       "      <td>640</td>\n",
       "      <td>1</td>\n",
       "      <td>0</td>\n",
       "    </tr>\n",
       "    <tr>\n",
       "      <th>2</th>\n",
       "      <td>2</td>\n",
       "      <td>0</td>\n",
       "      <td>610</td>\n",
       "      <td>1</td>\n",
       "      <td>0</td>\n",
       "    </tr>\n",
       "    <tr>\n",
       "      <th>3</th>\n",
       "      <td>2</td>\n",
       "      <td>0</td>\n",
       "      <td>876</td>\n",
       "      <td>1</td>\n",
       "      <td>0</td>\n",
       "    </tr>\n",
       "  </tbody>\n",
       "</table>\n",
       "</div>"
      ],
      "text/plain": [
       "   bhk type  area status age\n",
       "0    3    0   685      0   0\n",
       "1    2    0   640      1   0\n",
       "2    2    0   610      1   0\n",
       "3    2    0   876      1   0"
      ]
     },
     "execution_count": 22,
     "metadata": {},
     "output_type": "execute_result"
    }
   ],
   "source": [
    "X = Feature\n",
    "X[0:4]"
   ]
  },
  {
   "cell_type": "markdown",
   "id": "40a1f18d",
   "metadata": {
    "id": "40a1f18d"
   },
   "source": [
    "## What are our lables? Create Output Variable"
   ]
  },
  {
   "cell_type": "code",
   "execution_count": 23,
   "id": "18ac6004",
   "metadata": {
    "colab": {
     "base_uri": "https://localhost:8080/"
    },
    "id": "18ac6004",
    "outputId": "10aa5056-f481-4cdc-d50a-0be33c7e4d69"
   },
   "outputs": [
    {
     "data": {
      "text/plain": [
       "0    250.00\n",
       "1     52.51\n",
       "2    173.00\n",
       "3     59.98\n",
       "4     94.11\n",
       "Name: price_in_lakhs, dtype: float64"
      ]
     },
     "execution_count": 23,
     "metadata": {},
     "output_type": "execute_result"
    }
   ],
   "source": [
    "y = data['price_in_lakhs']\n",
    "y[0:5]"
   ]
  },
  {
   "cell_type": "code",
   "execution_count": 24,
   "id": "ffd9deaf",
   "metadata": {},
   "outputs": [
    {
     "data": {
      "text/plain": [
       "array([[ 1.06734333, -0.11445594, -0.50656595, -0.83090884, -0.89441655],\n",
       "       [-0.01637594, -0.11445594, -0.5737029 ,  1.20350146, -0.89441655],\n",
       "       [-0.01637594, -0.11445594, -0.61846086,  1.20350146, -0.89441655],\n",
       "       [-0.01637594, -0.11445594, -0.22160691,  1.20350146, -0.89441655],\n",
       "       [-0.01637594, -0.11445594, -0.54535619,  1.20350146, -0.89441655]])"
      ]
     },
     "execution_count": 24,
     "metadata": {},
     "output_type": "execute_result"
    }
   ],
   "source": [
    "from sklearn import preprocessing\n",
    "\n",
    "X = preprocessing.StandardScaler().fit(X).transform(X)\n",
    "X[0:5]"
   ]
  },
  {
   "cell_type": "code",
   "execution_count": 25,
   "id": "b9deee3c",
   "metadata": {},
   "outputs": [
    {
     "name": "stdout",
     "output_type": "stream",
     "text": [
      "Train set: (60830, 5) (60830,)\n",
      "Test set: (15208, 5) (15208,)\n"
     ]
    }
   ],
   "source": [
    "from sklearn.model_selection import train_test_split\n",
    "X_train, X_test, y_train, y_test = train_test_split( X, \n",
    "                                                    y, \n",
    "                                                    test_size = 0.2,\n",
    "                                                    random_state = 3)\n",
    "print ('Train set:', X_train.shape, y_train.shape)\n",
    "print ('Test set:', X_test.shape, y_test.shape)"
   ]
  },
  {
   "cell_type": "code",
   "execution_count": 26,
   "id": "a089a191",
   "metadata": {},
   "outputs": [],
   "source": [
    "import pandas as pd\n",
    "from sklearn.linear_model import LinearRegression\n",
    "from sklearn.tree import DecisionTreeRegressor\n",
    "from sklearn.ensemble import RandomForestRegressor\n",
    "from sklearn.svm import SVR\n",
    "from sklearn.neighbors import KNeighborsRegressor\n",
    "from sklearn.metrics import mean_squared_error\n",
    "from sklearn.metrics import r2_score\n",
    "import joblib\n",
    "\n",
    "# # Create a list of regression algorithms to compare\n",
    "# regressors = [\n",
    "#     LinearRegression(),\n",
    "#     DecisionTreeRegressor(),\n",
    "#     RandomForestRegressor(),\n",
    "#     SVR(),\n",
    "#     KNeighborsRegressor()\n",
    "# ]\n",
    "\n",
    "# # Perform regression with each algorithm and calculate MSE\n",
    "# mse_scores = []\n",
    "# r2_scores = []\n",
    "# for regressor in regressors:\n",
    "#     regressor.fit(X_train, y_train)\n",
    "#     y_pred = regressor.predict(X_test)\n",
    "#     mse = mean_squared_error(y_test, y_pred)\n",
    "#     # Calculate the R-squared score\n",
    "#     r2 = r2_score(y_test, y_pred)\n",
    "#     mse_scores.append(mse)\n",
    "#     r2_scores.append(r2)\n",
    "\n",
    "# # Find the best algorithm based on MSE\n",
    "# best_algorithm_index = mse_scores.index(min(mse_scores))\n",
    "# best_algorithm = regressors[best_algorithm_index]\n",
    "\n",
    "# # Print the MSE scores and the best algorithm\n",
    "# for i, mse in enumerate(mse_scores):\n",
    "#     print(f\"Algorithm {i+1} - MSE: {mse}\")\n",
    "# print(f\"The best algorithm is Algorithm {best_algorithm_index+1}: {type(best_algorithm).__name__}\")\n",
    "\n",
    "\n",
    "# # r2_scores\n",
    "\n",
    "# print(\"\\n\\n\\n\\nr2_Scores are\")\n",
    "# for i, r in enumerate(r2_scores):\n",
    "#     print(f\"Algorithm {i+1} - R2: {r}\")\n",
    "\n",
    "\n",
    "# # Fit the best algorithm on the entire dataset\n",
    "# best_algorithm.fit(X, y)\n"
   ]
  },
  {
   "cell_type": "code",
   "execution_count": 27,
   "id": "35212dbe",
   "metadata": {},
   "outputs": [
    {
     "name": "stdout",
     "output_type": "stream",
     "text": [
      "Mean Squared Error: 19891.48813464706\n",
      "R-squared: 0.5892472676917011\n"
     ]
    }
   ],
   "source": [
    "# Create and fit the LinearRegression()\n",
    "regressor1 = LinearRegression()\n",
    "regressor1.fit(X_train, y_train)\n",
    "\n",
    "# Make predictions on the test set\n",
    "y_pred1 = regressor1.predict(X_test)\n",
    "\n",
    "# Calculate the R-squared score\n",
    "mse = mean_squared_error(y_test, y_pred1)\n",
    "print(f\"Mean Squared Error: {mse}\")\n",
    "\n",
    "# Calculate the R-squared score\n",
    "r2 = r2_score(y_test, y_pred1)\n",
    "print(f\"R-squared: {r2}\")\n"
   ]
  },
  {
   "cell_type": "code",
   "execution_count": 28,
   "id": "ad0e30df-7557-45e2-b6c5-e38c1a7deb21",
   "metadata": {},
   "outputs": [
    {
     "name": "stdout",
     "output_type": "stream",
     "text": [
      "Mean Squared Error: 17359.96447844526\n",
      "R-squared: 0.641522404255104\n"
     ]
    }
   ],
   "source": [
    "# Create and fit the DecisionTreeRegressor() \n",
    "regressor2 = DecisionTreeRegressor()\n",
    "regressor2.fit(X_train, y_train)\n",
    "\n",
    "# Make predictions on the test set\n",
    "y_pred2 = regressor2.predict(X_test)\n",
    "\n",
    "# Calculate the R-squared score\n",
    "mse = mean_squared_error(y_test, y_pred2)\n",
    "print(f\"Mean Squared Error: {mse}\")\n",
    "\n",
    "# Calculate the R-squared score\n",
    "r2 = r2_score(y_test, y_pred2)\n",
    "print(f\"R-squared: {r2}\")\n"
   ]
  },
  {
   "cell_type": "code",
   "execution_count": 29,
   "id": "94b0f2de-481f-4038-ac70-78b51942fcf3",
   "metadata": {},
   "outputs": [
    {
     "name": "stdout",
     "output_type": "stream",
     "text": [
      "Mean Squared Error: 0.641522404255104\n",
      "R-squared: 0.7014280792155221\n"
     ]
    }
   ],
   "source": [
    "# Create and fit the Random Forest regressor\n",
    "regressor3 =  RandomForestRegressor()\n",
    "regressor3.fit(X_train, y_train)\n",
    "\n",
    "# Make predictions on the test set\n",
    "y_pred2 = regressor3.predict(X_test)\n",
    "\n",
    "# Calculate the R-squared score\n",
    "mse = mean_squared_error(y_test, y_pred2)\n",
    "print(f\"Mean Squared Error: {r2}\")\n",
    "\n",
    "# Calculate the R-squared score\n",
    "r2 = r2_score(y_test, y_pred2)\n",
    "print(f\"R-squared: {r2}\")\n"
   ]
  },
  {
   "cell_type": "code",
   "execution_count": 30,
   "id": "59412188-c67b-465e-af92-1eea76be98b2",
   "metadata": {},
   "outputs": [],
   "source": [
    "# # Create and fit the SVR()\n",
    "# regressor4 =  SVR()\n",
    "# regressor4.fit(X_train, y_train)\n",
    "\n",
    "# # Make predictions on the test set\n",
    "# y_pred4 = regressor4.predict(X_test)\n",
    "\n",
    "# # Calculate the R-squared score\n",
    "# mse = mean_squared_error(y_test, y_pred4)\n",
    "# print(f\"Mean Squared Error: {mse}\")\n",
    "\n",
    "# # Calculate the R-squared score\n",
    "# r2 = r2_score(y_test, y_pred4)\n",
    "# print(f\"R-squared: {r2}\")\n"
   ]
  },
  {
   "cell_type": "code",
   "execution_count": 31,
   "id": "a036d92c-b7f4-4ce5-8808-e80d04e5a1ad",
   "metadata": {},
   "outputs": [
    {
     "name": "stdout",
     "output_type": "stream",
     "text": [
      "Mean Squared Error: 15435.778793800895\n",
      "R-squared: 0.6812562100963839\n"
     ]
    }
   ],
   "source": [
    "# Create and fit the KNeighborsRegressor()\n",
    "regressor5 =  KNeighborsRegressor()\n",
    "regressor5.fit(X_train, y_train)\n",
    "\n",
    "# Make predictions on the test set\n",
    "y_pred5 = regressor5.predict(X_test)\n",
    "\n",
    "# Calculate the R-squared score\n",
    "mse = mean_squared_error(y_test, y_pred5)\n",
    "print(f\"Mean Squared Error: {mse}\")\n",
    "\n",
    "# Calculate the R-squared score\n",
    "r2 = r2_score(y_test, y_pred5)\n",
    "print(f\"R-squared: {r2}\")\n"
   ]
  },
  {
   "cell_type": "markdown",
   "id": "fb87a568-9f3b-4961-877d-cb62e113a16f",
   "metadata": {},
   "source": [
    "#### Hence Random Forest Regressor is the best Model."
   ]
  },
  {
   "cell_type": "code",
   "execution_count": 32,
   "id": "fd88e8fd-1a70-41ee-995d-b8bc71896571",
   "metadata": {},
   "outputs": [
    {
     "data": {
      "text/plain": [
       "['random.joblib']"
      ]
     },
     "execution_count": 32,
     "metadata": {},
     "output_type": "execute_result"
    }
   ],
   "source": [
    "import joblib \n",
    "\n",
    "filename = 'random.joblib'\n",
    "joblib.dump(regressor3,filename)"
   ]
  }
 ],
 "metadata": {
  "colab": {
   "provenance": []
  },
  "kernelspec": {
   "display_name": "Python 3 (ipykernel)",
   "language": "python",
   "name": "python3"
  },
  "language_info": {
   "codemirror_mode": {
    "name": "ipython",
    "version": 3
   },
   "file_extension": ".py",
   "mimetype": "text/x-python",
   "name": "python",
   "nbconvert_exporter": "python",
   "pygments_lexer": "ipython3",
   "version": "3.12.3"
  }
 },
 "nbformat": 4,
 "nbformat_minor": 5
}
