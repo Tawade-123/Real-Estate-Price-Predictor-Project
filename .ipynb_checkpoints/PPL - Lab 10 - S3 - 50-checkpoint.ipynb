{
 "cells": [
  {
   "cell_type": "markdown",
   "metadata": {},
   "source": [
    "# Lab 10 : Program to find the length of a list using recursion. "
   ]
  },
  {
   "cell_type": "markdown",
   "metadata": {},
   "source": [
    "**Program Logic**\n",
    "1. Define a function to find the lenght of list using recursion.\n",
    "    1. Pass one parameter as list.\n",
    "    2. Check if it is a valid list or not, If not return 0.\n",
    "    3. Otherwise, it is indexed and increment by 1 and return as output.\n",
    "    \n",
    "2. In Driver code\n",
    "    1. Declare a list\n",
    "    2. Call the function and print the length of list."
   ]
  },
  {
   "cell_type": "markdown",
   "metadata": {},
   "source": [
    "# Define function list_len()"
   ]
  },
  {
   "cell_type": "code",
   "execution_count": 1,
   "metadata": {},
   "outputs": [],
   "source": [
    "def list_len(my_list):\n",
    "    if not my_list:\n",
    "        return 0\n",
    "    return 1 + list_len(my_list[1::2]) + list_len(my_list[2::2])"
   ]
  },
  {
   "cell_type": "markdown",
   "metadata": {},
   "source": [
    "# Driver Code"
   ]
  },
  {
   "cell_type": "code",
   "execution_count": 2,
   "metadata": {},
   "outputs": [
    {
     "name": "stdout",
     "output_type": "stream",
     "text": [
      "List : [12, 34, 55, 88, 45, 6, 12]\n",
      "Length of list : 7\n"
     ]
    }
   ],
   "source": [
    "if __name__ == '__main__':\n",
    "    my_list = [12,34,55,88,45,6,12]\n",
    "    print(\"List :\",my_list)\n",
    "    print(\"Length of list :\",list_len(my_list))"
   ]
  }
 ],
 "metadata": {
  "kernelspec": {
   "display_name": "Python 3 (ipykernel)",
   "language": "python",
   "name": "python3"
  },
  "language_info": {
   "codemirror_mode": {
    "name": "ipython",
    "version": 3
   },
   "file_extension": ".py",
   "mimetype": "text/x-python",
   "name": "python",
   "nbconvert_exporter": "python",
   "pygments_lexer": "ipython3",
   "version": "3.10.4"
  }
 },
 "nbformat": 4,
 "nbformat_minor": 2
}
